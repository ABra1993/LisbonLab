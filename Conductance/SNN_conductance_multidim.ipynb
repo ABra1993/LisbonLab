{
 "cells": [
  {
   "cell_type": "markdown",
   "metadata": {},
   "source": [
    "# Conductance-Based Spiking Neural Network (conductance-SNN)"
   ]
  },
  {
   "cell_type": "markdown",
   "metadata": {},
   "source": [
    "## Install required packages"
   ]
  },
  {
   "cell_type": "markdown",
   "metadata": {},
   "source": [
    "Install required packages"
   ]
  },
  {
   "cell_type": "code",
   "execution_count": 2,
   "metadata": {},
   "outputs": [],
   "source": [
    "import numpy as np\n",
    "import pylab as pl\n",
    "import math\n",
    "from matplotlib import colors as mcolors\n",
    "from mpl_toolkits.mplot3d import Axes3D\n",
    "import random\n",
    "import os\n",
    "import matplotlib.animation as animation\n",
    "import copy\n",
    "from scipy.signal import sweep_poly\n",
    "from scipy.ndimage.filters import gaussian_filter1d"
   ]
  },
  {
   "cell_type": "markdown",
   "metadata": {},
   "source": [
    "## Functions used for simulation"
   ]
  },
  {
   "cell_type": "markdown",
   "metadata": {},
   "source": [
    "### Initialize weights"
   ]
  },
  {
   "cell_type": "markdown",
   "metadata": {},
   "source": [
    "Initialize weights"
   ]
  },
  {
   "cell_type": "code",
   "execution_count": 1,
   "metadata": {},
   "outputs": [],
   "source": [
    "def initialize_weights(N, d):\n",
    "    \"\"\" Initialize decoding weights of the different neurons. \n",
    "    \n",
    "    Parameters\n",
    "    ----------\n",
    "    N : int\n",
    "        number of neurons\n",
    "    d : int\n",
    "        number of dimensions\n",
    "    \n",
    "    Returns\n",
    "    ----------\n",
    "    D : array\n",
    "        weights per dimension, size (N, d)\n",
    "    \n",
    "    \"\"\"\n",
    "        \n",
    "    if d == 2:\n",
    "        # 2-dimensional input signal\n",
    "        \n",
    "        weights = np.linspace(0, 2 * np.pi, N + 1)       \n",
    "        D = np.zeros((N,d))\n",
    "        D[:, 0] = [np.sin(weight) for weight in weights[0:N]]\n",
    "        D[:, 1] = [np.cos(weight) for weight in weights[0:N]]\n",
    "        \n",
    "    else:\n",
    "        D = np.random.normal(0, 0.5, size=(N, d)) \n",
    "               \n",
    "    return D"
   ]
  },
  {
   "cell_type": "markdown",
   "metadata": {},
   "source": [
    "### Initialize parameters"
   ]
  },
  {
   "cell_type": "markdown",
   "metadata": {},
   "source": [
    "Initialize parameters"
   ]
  },
  {
   "cell_type": "code",
   "execution_count": 22,
   "metadata": {},
   "outputs": [],
   "source": [
    "def initialize_params(N, d, dt, iterations, D):\n",
    "    \"\"\" Initialize variables and parameters. \n",
    "    \n",
    "    Parameters\n",
    "    ----------\n",
    "    N : int\n",
    "        number of neurons\n",
    "    d : int\n",
    "        number of dimensions\n",
    "    dt : int\n",
    "        time step\n",
    "    iterations : int\n",
    "        length of the simulation\n",
    "    weight : string, optional\n",
    "        all neurons have same weights (\"homogeneous\") or neurons have different weights (\"heterogeneous\")\n",
    "    gamma : int, optional\n",
    "        read-out weight of the neurons (only applies when weights=\"homogeneous\")\n",
    "        \n",
    "    Returns\n",
    "    ----------\n",
    "    t : 1D-array\n",
    "        timesteps\n",
    "    x_est : array\n",
    "        input estimate per timestep, size (d, iterations)\n",
    "    o : array\n",
    "        spike trains, with value 0 if there is no spike and value 1/dt if there is a spike,\n",
    "        size (N, iterations) \n",
    "    voltage : array\n",
    "        voltages, size (N, iterations) \n",
    "    D : 1D-array\n",
    "        read-out weights of the neurons\n",
    "    T : 1D-array\n",
    "        threshold of the neurons\n",
    "    \n",
    "    \"\"\"\n",
    "    \n",
    "    # timesteps\n",
    "    t = np.arange(0, iterations) * dt\n",
    "\n",
    "    # voltage\n",
    "    voltage = np.zeros((N, iterations))\n",
    "\n",
    "    # input estimate\n",
    "    x_est = np.zeros((d, iterations))\n",
    "\n",
    "    # spike train\n",
    "    o = np.zeros((N, iterations))\n",
    "\n",
    "    # threshold\n",
    "    T = [np.dot(weight, weight) for weight in D]\n",
    "\n",
    "    return (t, voltage, x_est, o, T)"
   ]
  },
  {
   "cell_type": "markdown",
   "metadata": {},
   "source": [
    "### Time varying signal"
   ]
  },
  {
   "cell_type": "markdown",
   "metadata": {},
   "source": [
    "Create time varying signal"
   ]
  },
  {
   "cell_type": "code",
   "execution_count": 5,
   "metadata": {},
   "outputs": [],
   "source": [
    "def time_varying_signal(d):\n",
    "    \"\"\" Initialize time varying, sinusoidal input signal. \n",
    "\n",
    "    Parameters:\n",
    "    d: int\n",
    "        number of dimensions\n",
    "    \n",
    "    Returns\n",
    "    ----------\n",
    "    x : array\n",
    "        input per timestep, size (d, iterations)\n",
    "    c : array\n",
    "        sum of the input and input derivative per timestep, size (d, iterations)\n",
    "        \n",
    "    \"\"\"\n",
    "    \n",
    "    c = []\n",
    "    x = []\n",
    "    \n",
    "    # number of sinus periods (total # of sinus periods = 2 * cycles)\n",
    "    cycles = 2\n",
    "    t = np.linspace(0, np.pi, d + 1)       # starting points of d-dimensioan sinusoidal input signals\n",
    "    \n",
    "    for i in range(d):\n",
    "        \n",
    "        x_temp = np.sin(2 * np.linspace(-cycles * np.pi, cycles * np.pi, iterations) + t[i])\n",
    "        dxdt = np.diff(x_temp)/dt\n",
    "        c_temp = x_temp[:-1] + dxdt\n",
    "\n",
    "        c.extend(c_temp)\n",
    "        x.extend(x_temp)\n",
    "\n",
    "    c = np.asarray(c).reshape((d, iterations - 1))\n",
    "    x = np.asarray(x).reshape((d, iterations))\n",
    "\n",
    "    return(c, x)"
   ]
  },
  {
   "cell_type": "code",
   "execution_count": 4,
   "metadata": {},
   "outputs": [],
   "source": [
    "def time_varying_signal_plateau(c_upp=1):\n",
    "    \"\"\" Initialize time varying input signal with a plateau. \n",
    "    \n",
    "    Parameters\n",
    "    ----------\n",
    "    c_upp : int, optional\n",
    "        value of the plateau\n",
    "    \n",
    "    Returns\n",
    "    ----------\n",
    "    x : 1D-array\n",
    "        input per timestep\n",
    "    c : 1D-array\n",
    "        sum of the input and input derivative per timestep\n",
    "        \n",
    "    \"\"\"\n",
    "        \n",
    "    c = []\n",
    "    \n",
    "    # create time-varying signal\n",
    "    x_t = np.ones((d, iterations)) * c_upp\n",
    "\n",
    "    step = 150\n",
    "    x_t[:, 0:step] = 0\n",
    "    x_t[:, iterations - 2 * step:iterations] = 0\n",
    "\n",
    "    x = gaussian_filter1d(x_t, sigma=20) # smooth signal\n",
    "        \n",
    "    for i in range(d):\n",
    "        dxdt = np.diff(x[i,:])/dt\n",
    "        c.extend(x[i, :-1] + dxdt)\n",
    "        \n",
    "    c = np.asarray(c).reshape((d, iterations - 1))\n",
    "    x = np.asarray(x).reshape((d, iterations))\n",
    "    \n",
    "    return (c, x)"
   ]
  },
  {
   "cell_type": "markdown",
   "metadata": {},
   "source": [
    "### Run simulation"
   ]
  },
  {
   "cell_type": "code",
   "execution_count": 12,
   "metadata": {},
   "outputs": [],
   "source": [
    "def run(rho, E_e=1, E_i=-1, lambda_constant=False, var=0):\n",
    "    \"\"\" Run simulation of spike coding network. At each time step, the voltage and input estimate is computed\n",
    "    using the Euler's method. The network follows a spike rule that if one of the voltage reaches threshold the\n",
    "    network outputs a spike wherafter the voltages and input estimate are updated. \n",
    "    \n",
    "    Parameters\n",
    "    ----------\n",
    "    rho : int\n",
    "        network parameter\n",
    "    E_e : int, optional\n",
    "        excitatory reversal potential\n",
    "    E_i : int, optional\n",
    "        inhibitory reversal potential\n",
    "    lambda_constant : boolean, optional\n",
    "        defines lambda as a constant (True) or as its true value (False)\n",
    "    var : int, optional\n",
    "        value of lambda (only applies when lambda_constant=True)\n",
    "    \n",
    "    \n",
    "    \"\"\"\n",
    "    \n",
    "    lambda_val = np.zeros(N)\n",
    "    \n",
    "    for t in range(1, iterations):\n",
    "\n",
    "        # update input estimate\n",
    "        dxestdt = (-1/tau) * x_est[:, t - 1] + np.dot(D.T, o[:, t - 1])\n",
    "        x_est[:, t] = x_est[:, t - 1] + dt * dxestdt \n",
    "        \n",
    "        # compute lambda\n",
    "        lambda_val = np.zeros(N)\n",
    "        if lambda_constant == False:\n",
    "            for i in range(N):\n",
    "                lambda_val = 1/np.dot(D, x[:, t] + x_est[:, t] + rho)\n",
    "        elif lambda_constant == True:\n",
    "            lambda_val = 1/var\n",
    "                \n",
    "        # update voltages\n",
    "        dVdt = lambda_val * (-rho * voltage[:, t - 1] + np.dot(D, c[:, t - 1]) * (E_e - voltage[:, t - 1]) + \\\n",
    "                            np.dot(D * D.T, o[:, t - 1]) * (E_i - voltage[:, t - 1]))\n",
    "        voltage[:, t] = voltage[:, t - 1] + dt * dVdt\n",
    "        \n",
    "        # check for neurons with voltages above threshold\n",
    "        neurons = np.arange(0, N, 1)\n",
    "        above_threshold = neurons[np.where(voltage[:, t] > T)]\n",
    "\n",
    "        # reset neurons' voltages when threshold is exceeded\n",
    "        if len(above_threshold) > 0:\n",
    "\n",
    "            # select spiking neuron\n",
    "            spike_neuron = np.random.choice(above_threshold)\n",
    "            \n",
    "            # update spikes\n",
    "            o[spike_neuron, t] = 1/dt"
   ]
  },
  {
   "cell_type": "markdown",
   "metadata": {},
   "source": [
    "### Visualize results"
   ]
  },
  {
   "cell_type": "markdown",
   "metadata": {},
   "source": [
    "Functions used to visualize results"
   ]
  },
  {
   "cell_type": "code",
   "execution_count": 7,
   "metadata": {},
   "outputs": [],
   "source": [
    "def zero_to_nan(spike_trains):\n",
    "    \"\"\"Replace every 0 with 'nan' and return a copy.\n",
    "    \n",
    "    Parameters\n",
    "    ----------\n",
    "    spike_trains : array\n",
    "        spike trains of the different neurons\n",
    "    \n",
    "    Returns\n",
    "    ----------\n",
    "    o_Nan : array\n",
    "        array where every 0 is replaced by NaN, size (spike_trains.shape)\n",
    "        \n",
    "    \"\"\"\n",
    "    \n",
    "    o_Nan = [float('nan') if x==0 else x for x in spike_trains]\n",
    "    \n",
    "    return o_Nan"
   ]
  },
  {
   "cell_type": "code",
   "execution_count": 13,
   "metadata": {},
   "outputs": [],
   "source": [
    "def visualize(color, plot_voltage=True, plot_c=False):\n",
    "    \"\"\" Visualize results of the simulation of the spike coding network. Return one plot with the input and input estimate,\n",
    "    one plot with the spike trains, and N plots for the voltages.\n",
    "    \n",
    "    Parameters\n",
    "    ----------\n",
    "    color : array\n",
    "        RGB values for the different neurons, size (N, 3)\n",
    "    plot_voltages : boolean, optional\n",
    "        voltages are plotted (True) or not (False)\n",
    "    plot_c : boolean, optional\n",
    "        sum of input plus input derivative is plotted (True) or not (False)\n",
    "    \n",
    "    \"\"\" \n",
    "    \n",
    "    # initialize plots\n",
    "    if plot_voltage == True:\n",
    "        plot = d + N + 1\n",
    "    else:\n",
    "        plot = d + 1\n",
    "    \n",
    "    pl.subplots(plot, 1, figsize=(8, 10))\n",
    "    pl.subplots_adjust(hspace=0.2 * N)\n",
    "    counter = 1\n",
    "    pl.rc('text', usetex=True)\n",
    "    \n",
    "    # plot input and input estimate\n",
    "    for i in range(1, d + 1):\n",
    "        pl.subplot(plot, 1, counter)\n",
    "        pl.plot(t, x_est[i - 1,:], label=r'$\\hat{x}_{%i}$' %i, color='gray')\n",
    "        pl.plot(t, x[i - 1,:], label='$x_{%i}$' %i, color='k')\n",
    "        if plot_c == True:\n",
    "            pl.plot(t[:-1], c[0, :], '--k', label=r'$x + \\dot{x}$', alpha=0.2)\n",
    "        pl.xlim(0, iterations * dt)\n",
    "        pl.legend()\n",
    "        counter = counter + 1\n",
    "    \n",
    "    # plot spike trains\n",
    "    fig = pl.subplot(plot, 1, counter) \n",
    "    for i in range(1, N + 1):\n",
    "        values = zero_to_nan(o[i - 1, :] * i)\n",
    "        pl.scatter(t, values, color=color[i - 1][:]/255, label='N%i' %i, s=1.5)\n",
    "    pl.title('Spike train', fontsize=15)\n",
    "    pl.xlim(0, iterations * dt)\n",
    "    pl.legend()\n",
    "    counter = counter + 1\n",
    "    \n",
    "    # plot voltages\n",
    "    if plot_voltage == 1: \n",
    "        # plot voltage per neuron over time\n",
    "        for i in range(1, N + 1):\n",
    "            pl.subplot(plot, 1, counter)\n",
    "            \n",
    "            pl.plot(t, voltage[i - 1], color=color[i - 1][:]/255, label='voltage')\n",
    "            pl.plot(t, np.ones(iterations) * T[i - 1], color='gray', label='threshold')\n",
    "            pl.plot(t, np.ones(iterations) * E_e, '--r', alpha=0.5, label='Reversal potential E')\n",
    "            pl.plot(t, np.ones(iterations) * E_i, '--b', alpha=0.5, label='Reversal potential I')\n",
    "            \n",
    "            pl.xlim(0, iterations * dt)\n",
    "            pl.ylabel('Voltage')\n",
    "            pl.title('Neuron %i' %i,  fontsize=15)\n",
    "            pl.legend()\n",
    "            counter = counter + 1\n",
    "        \n",
    "    pl.xlabel('time')"
   ]
  },
  {
   "cell_type": "markdown",
   "metadata": {},
   "source": [
    "## Other functions"
   ]
  },
  {
   "cell_type": "markdown",
   "metadata": {},
   "source": [
    "### Membrane voltage "
   ]
  },
  {
   "cell_type": "code",
   "execution_count": 29,
   "metadata": {},
   "outputs": [],
   "source": [
    "def visualize_voltage(rho):\n",
    "    \"\"\" Compute and visualize membrane voltage of each neuron. \n",
    "    \n",
    "    Parameters\n",
    "    ----------\n",
    "    rho: int\n",
    "        network parameter        \n",
    "    \n",
    "    Returns\n",
    "    ----------\n",
    "    voltage_offline : array\n",
    "        voltages computed using the offline method, size (N, iterations)\n",
    "    \n",
    "    \"\"\"\n",
    "    \n",
    "    # compute voltage (by method 2)\n",
    "    voltage_offline = np.zeros((N, iterations))\n",
    "    for i in range(N):\n",
    "        voltage_offline[i, :] = np.dot(D[i].T, x - x_est) / np.dot(D[i].T, x + x_est + rho)\n",
    "\n",
    "    # plot voltages\n",
    "    counter = 1\n",
    "    pl.subplots(N, 2, figsize=(14, 4))\n",
    "\n",
    "    for i in range(1, N+1):\n",
    "        pl.subplot(N, 2, counter)\n",
    "        if counter == 1:\n",
    "            pl.title(r'Online $\\frac{dV_{i}}{dt} = D_{i}^{T}(\\frac{x}{\\tau} + \\dot{x}) (1 - V_{i}) + \\sum^{N}_{k = 1} (D_{i}^{T} D_{k} s_{k}) (-1 - V_{i})$',  fontsize=20)\n",
    "        counter = counter + 1\n",
    "        pl.plot(voltage[i - 1, :], color=color[i - 1][:]/255, label='N%i' %i)\n",
    "        pl.plot(t, np.ones(iterations) * T[i - 1], color='gray', label='threshold') \n",
    "        pl.ylabel('voltage')\n",
    "        pl.xlabel('time')\n",
    "        \n",
    "        pl.subplot(N, 2, counter)\n",
    "        if counter == 2:\n",
    "            pl.title(r'Offline $V_{i} = \\frac{D_{i}(x - \\hat{x})}{D_{i}(x + \\hat{x} + \\rho)}$', fontsize=20)\n",
    "        counter = counter + 1\n",
    "        pl.plot(voltage_offline[i - 1, :], color=color[i - 1][:]/255, label='N%i' %i)\n",
    "        pl.plot(t, np.ones(iterations) * T[i - 1], color='gray', label='threshold') \n",
    "        pl.xlabel('time')\n",
    "        pl.legend()\n",
    "        \n",
    "    return voltage_offline"
   ]
  },
  {
   "cell_type": "code",
   "execution_count": 30,
   "metadata": {},
   "outputs": [],
   "source": [
    "def plot_voltage_diff(voltage_online, voltage_offline):\n",
    "    \"\"\" Plot difference between online and offline voltage.\n",
    "    \n",
    "    Parameters\n",
    "    ----------\n",
    "    voltage_online : array\n",
    "        voltages computed using the online method, size (N, iterations)\n",
    "    voltage_offline : array\n",
    "        voltages computed using the offline method, size (N, iterations)\n",
    "    \n",
    "    \"\"\"\n",
    "    \n",
    "    pl.rc('text', usetex=True)\n",
    "    pl.plot(t, voltage_online - voltage_offline, 'k')\n",
    "    pl.ylim(-1, 1)\n",
    "    pl.ylabel(r'$V_{online} - V_{offline}$')\n",
    "    pl.xlabel('time')"
   ]
  },
  {
   "cell_type": "markdown",
   "metadata": {},
   "source": [
    "## Run simulation"
   ]
  },
  {
   "cell_type": "code",
   "execution_count": 27,
   "metadata": {},
   "outputs": [
    {
     "data": {
      "image/png": "[encoded data removed]",
      "text/plain": [
       "<Figure size 576x720 with 3 Axes>"
      ]
     },
     "metadata": {},
     "output_type": "display_data"
    }
   ],
   "source": [
    "N = 1                                                    # number of neurons\n",
    "d = 1                                                    # number of dimensions\n",
    "dt = 0.01                                                # time step\n",
    "iterations = 1500                                        # length of simulation\n",
    "tau = 1                                                  # time constant\n",
    "c_upp = 1                                                # input value\n",
    "gamma = 1                                                # read-out weight\n",
    "color = np.random.randint(0, 255, size=(N, 3))           # return set of colors\n",
    "E_e = 1                                                  # excitatory reversal potential\n",
    "E_i = -1                                                 # inhibitory reversal potential\n",
    "rho = 0.1\n",
    "lambda_constant = False                                  # indicates use of lambda                   \n",
    "var = 1\n",
    "\n",
    "# run simulation\n",
    "D = initialize_weights(N, d)                                                # initialize decoding weights\n",
    "t, voltage, x_est, o, T = initialize_params(N, d, dt, iterations, D)        # initialize parameters\n",
    "c, x = time_varying_signal(d)                                               # create d-dimensional input signal\n",
    "#c, x = time_varying_signal_plateau(c_upp=c_upp) \n",
    "run(rho, E_e, E_i, lambda_constant=lambda_constant, var=var)                # run spiking network\n",
    "visualize(color, plot_voltage=True, plot_c=True)                            # plot results"
   ]
  },
  {
   "cell_type": "code",
   "execution_count": 31,
   "metadata": {},
   "outputs": [
    {
     "data": {
      "image/png": "[encoded data removed]",
      "text/plain": [
       "<Figure size 1008x288 with 2 Axes>"
      ]
     },
     "metadata": {},
     "output_type": "display_data"
    }
   ],
   "source": [
    "voltage_offline = visualize_voltage(rho)"
   ]
  },
  {
   "cell_type": "code",
   "execution_count": 35,
   "metadata": {},
   "outputs": [
    {
     "name": "stdout",
     "output_type": "stream",
     "text": [
      "Enter valid neuron\n"
     ]
    }
   ],
   "source": [
    "neuron = 2\n",
    "if neuron < 1 or neuron > N:\n",
    "    print(\"Enter valid neuron\")\n",
    "else:\n",
    "    plot_voltage_diff(voltage[neuron - 1, :], voltage_offline[neuron - 1, :])"
   ]
  }
 ],
 "metadata": {
  "kernelspec": {
   "display_name": "Python 3",
   "language": "python",
   "name": "python3"
  },
  "language_info": {
   "codemirror_mode": {
    "name": "ipython",
    "version": 3
   },
   "file_extension": ".py",
   "mimetype": "text/x-python",
   "name": "python",
   "nbconvert_exporter": "python",
   "pygments_lexer": "ipython3",
   "version": "3.6.5"
  }
 },
 "nbformat": 4,
 "nbformat_minor": 2
}
