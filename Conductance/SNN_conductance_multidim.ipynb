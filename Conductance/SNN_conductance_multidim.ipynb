{
 "cells": [
  {
   "cell_type": "markdown",
   "metadata": {},
   "source": [
    "# Conductance-Based Spiking Neural Network (conductance-SNN)"
   ]
  },
  {
   "cell_type": "markdown",
   "metadata": {},
   "source": [
    "The following code simulates a Coördinated Spiking Model with $\\textit{N}$ neurons and a $\\textit{d}$-dimensional input. The model contains the following functions:\n",
    "\n",
    "- initialize_weights: initialize weights for the different neurons\n",
    "- initialize_params_N: initialize the variables and parameters for simulating the network\n",
    "- time_varying_signal: creates sinusoidal input signal with $\\textit{d}$ dimensions\n",
    "- run_N: runs the spiking network model\n",
    "- plot_N: plots the results (input + input estimate, spike trains and voltages)\n",
    "\n",
    "In addition, other functions have been added to plot the parameters of the network."
   ]
  },
  {
   "cell_type": "markdown",
   "metadata": {},
   "source": [
    "## Install required packages"
   ]
  },
  {
   "cell_type": "markdown",
   "metadata": {},
   "source": [
    "Install required packages"
   ]
  },
  {
   "cell_type": "code",
   "execution_count": 1,
   "metadata": {},
   "outputs": [],
   "source": [
    "import numpy as np\n",
    "import pylab as pl\n",
    "import math\n",
    "from matplotlib import colors as mcolors\n",
    "from mpl_toolkits.mplot3d import Axes3D\n",
    "import random\n",
    "import os\n",
    "import matplotlib.animation as animation\n",
    "import copy\n",
    "from scipy.signal import sweep_poly\n",
    "from scipy.ndimage.filters import gaussian_filter1d"
   ]
  },
  {
   "cell_type": "markdown",
   "metadata": {},
   "source": [
    "## Functions used for simulation"
   ]
  },
  {
   "cell_type": "markdown",
   "metadata": {},
   "source": [
    "### Initialize weights"
   ]
  },
  {
   "cell_type": "markdown",
   "metadata": {},
   "source": [
    "Initialize weights"
   ]
  },
  {
   "cell_type": "code",
   "execution_count": 2,
   "metadata": {},
   "outputs": [],
   "source": [
    "def initialize_weights(N, d):\n",
    "    \"\"\" Initialize decoding weights of the different neurons. \"\"\"\n",
    "        \n",
    "    if d == 2:\n",
    "        # 2-dimensional input signal\n",
    "        \n",
    "        weights = np.linspace(0, 2 * np.pi, N + 1)       \n",
    "        D = np.zeros((N,d))\n",
    "        D[:, 0] = [np.sin(weight) for weight in weights[0:N]]\n",
    "        D[:, 1] = [np.cos(weight) for weight in weights[0:N]]\n",
    "        \n",
    "    else:\n",
    "        D = np.random.normal(0, 0.5, size=(N, d)) \n",
    "               \n",
    "    return D"
   ]
  },
  {
   "cell_type": "markdown",
   "metadata": {},
   "source": [
    "### Initialize parameters"
   ]
  },
  {
   "cell_type": "markdown",
   "metadata": {},
   "source": [
    "Initialize parameters"
   ]
  },
  {
   "cell_type": "code",
   "execution_count": 3,
   "metadata": {},
   "outputs": [],
   "source": [
    "def initialize_params_N(N, d, iterations, dt, D, beta):\n",
    "    \"\"\" Initialize variables and parameters. \"\"\"\n",
    "    \n",
    "    # timesteps\n",
    "    t = np.arange(0, iterations) * dt\n",
    "\n",
    "    # voltage\n",
    "    voltage = np.zeros((N, iterations))\n",
    "\n",
    "    # input estimate\n",
    "    x_est = np.zeros((d, iterations))\n",
    "\n",
    "    # spike train\n",
    "    o = np.zeros((N, iterations))\n",
    "\n",
    "    # threshold\n",
    "    T = [(np.dot(weight, weight) + beta)/2 for weight in D]\n",
    "\n",
    "    return (t, voltage, x_est, o, T)"
   ]
  },
  {
   "cell_type": "markdown",
   "metadata": {},
   "source": [
    "### Time varying signal"
   ]
  },
  {
   "cell_type": "markdown",
   "metadata": {},
   "source": [
    "Create time varying signal"
   ]
  },
  {
   "cell_type": "code",
   "execution_count": 4,
   "metadata": {},
   "outputs": [],
   "source": [
    "def time_varying_signal():\n",
    "    \"Create time varying signal following a sinusoidal function. \"\n",
    "    \n",
    "    c = []\n",
    "    x = []\n",
    "    \n",
    "    # number of sinus periods (total # of sinus periods = 2 * cycles)\n",
    "    cycles = 2\n",
    "    t = np.linspace(0, np.pi, d + 1)       # starting points of d-dimensioan sinusoidal input signals\n",
    "    \n",
    "    for i in range(d):\n",
    "        \n",
    "        x_temp = np.sin(2 * np.linspace(-cycles * np.pi, cycles * np.pi, iterations) + t[i])\n",
    "        dxdt = np.diff(x_temp)/dt\n",
    "        c_temp = x_temp[:-1] + dxdt\n",
    "\n",
    "        c.extend(c_temp)\n",
    "        x.extend(x_temp)\n",
    "\n",
    "    c = np.asarray(c).reshape((d, iterations - 1))\n",
    "    x = np.asarray(x).reshape((d, iterations))\n",
    "\n",
    "    return(c, x)"
   ]
  },
  {
   "cell_type": "code",
   "execution_count": 5,
   "metadata": {},
   "outputs": [],
   "source": [
    "def time_varying_signal_pos(c_upp=1):\n",
    "    \"\"\" Initialize time varying input signal. \"\"\"\n",
    "    c = []\n",
    "    \n",
    "    # create time-varying signal\n",
    "    x_t = np.ones((d, iterations)) * c_upp\n",
    "\n",
    "    step = 150\n",
    "    x_t[:, 0:step] = 0\n",
    "    x_t[:, iterations - 2 * step:iterations] = 0\n",
    "\n",
    "    x = gaussian_filter1d(x_t, sigma=20) # smooth signal\n",
    "        \n",
    "    for i in range(d):\n",
    "        dxdt = np.diff(x[i,:])/dt\n",
    "        c.extend(x[i, :-1] + dxdt)\n",
    "        \n",
    "    c = np.asarray(c).reshape((d, iterations - 1))\n",
    "    x = np.asarray(x).reshape((d, iterations))\n",
    "    \n",
    "    return (c, x)"
   ]
  },
  {
   "cell_type": "markdown",
   "metadata": {},
   "source": [
    "### Run simulation"
   ]
  },
  {
   "cell_type": "code",
   "execution_count": 52,
   "metadata": {},
   "outputs": [],
   "source": [
    "def run_N(rho, E_e=1, E_i=-1, lambda_constant=False, var=0):\n",
    "    \"\"\"  \"\"\"\n",
    "    lambda_val = np.zeros(N)\n",
    "    \n",
    "    for t in range(1, iterations):\n",
    "\n",
    "        # update input estimate\n",
    "        dxestdt = (-1/tau) * x_est[:, t - 1] + np.dot(D.T, o[:, t - 1])\n",
    "        x_est[:, t] = x_est[:, t - 1] + dt * dxestdt \n",
    "        \n",
    "        # compute lambda\n",
    "        lambda_val = np.zeros(N)\n",
    "        if lambda_constant == False:\n",
    "            for i in range(N):\n",
    "                lambda_val = 1/np.dot(D, x[:, t] + x_est[:, t] + rho)\n",
    "        elif lambda_constant == True:\n",
    "            lambda_val = 1/var\n",
    "                \n",
    "        # update voltages\n",
    "        dVdt = lambda_val * (np.dot(D, c[:, t - 1]) * (E_e - voltage[:, t - 1]) + \\\n",
    "                            np.dot(D * D.T, o[:, t - 1]) * (E_i - voltage[:, t - 1]))\n",
    "        voltage[:, t] = voltage[:, t - 1] + dt * dVdt\n",
    "        \n",
    "        # check for neurons with voltages above threshold\n",
    "        neurons = np.arange(0, N, 1)\n",
    "        above_threshold = neurons[np.where(voltage[:, t] > T)]\n",
    "\n",
    "        # reset neurons' voltages when threshold is exceeded\n",
    "        if len(above_threshold) > 0:\n",
    "\n",
    "            # select spiking neuron\n",
    "            spike_neuron = np.random.choice(above_threshold)\n",
    "            \n",
    "            # update spikes\n",
    "            o[spike_neuron, t] = 1/dt"
   ]
  },
  {
   "cell_type": "code",
   "execution_count": 56,
   "metadata": {},
   "outputs": [
    {
     "data": {
      "text/plain": [
       "array([0., 0.])"
      ]
     },
     "execution_count": 56,
     "metadata": {},
     "output_type": "execute_result"
    }
   ],
   "source": [
    "t = 100\n",
    "np.dot(D * D.T, o[:, t - 1])\n",
    "\n",
    "#1/np.dot(x[:, t] + x_est[:, t] + rho, D.T)\n"
   ]
  },
  {
   "cell_type": "markdown",
   "metadata": {},
   "source": [
    "### Visualize results"
   ]
  },
  {
   "cell_type": "markdown",
   "metadata": {},
   "source": [
    "Functions used to visualize results"
   ]
  },
  {
   "cell_type": "code",
   "execution_count": 7,
   "metadata": {},
   "outputs": [],
   "source": [
    "def zero_to_nan(values):\n",
    "    \"\"\"Replace every 0 with 'nan' and return a copy.\"\"\"\n",
    "    \n",
    "    return [float('nan') if x==0 else x for x in values]"
   ]
  },
  {
   "cell_type": "code",
   "execution_count": 84,
   "metadata": {},
   "outputs": [],
   "source": [
    "def plot_N(color, plot_voltage=1, plot_c=0):\n",
    "    \"\"\" Plots the results, including input and input estimate per dimension \n",
    "        as well as the spike trains and voltages of the individual neurons. \"\"\"\n",
    "    \n",
    "    # determine number of plots\n",
    "    if plot_voltage == 1:\n",
    "        plot = d + N + 1\n",
    "    else:\n",
    "        plot = d + 1\n",
    "    \n",
    "    pl.subplots(plot, 1, figsize=(8, 10))\n",
    "    pl.subplots_adjust(hspace=0.2 * N)\n",
    "    counter = 1\n",
    "    \n",
    "    # enable LaTeX\n",
    "    pl.rc('text', usetex=True)\n",
    "       \n",
    "    for i in range(1, d + 1):\n",
    "        # input signal with more than 1 dimension\n",
    "        pl.subplot(plot, 1, counter)\n",
    "        pl.plot(t, x_est[i - 1,:], label=r'$\\hat{x}_{%i}$' %i, color='gray')\n",
    "        pl.plot(t, x[i - 1,:], label='$x_{%i}$' %i, color='k')\n",
    "        if plot_c == 1:\n",
    "            pl.plot(t[:-1], c[0, :], '--k', label=r'$x + \\dot{x}$', alpha=0.2)\n",
    "        pl.xlim(0, iterations * dt)\n",
    "        pl.legend()\n",
    "        counter = counter + 1\n",
    "    \n",
    "    # plot spike trains per neuron over time\n",
    "    fig = pl.subplot(plot, 1, counter)\n",
    "    \n",
    "    for i in range(1, N + 1):\n",
    "        values = zero_to_nan(o[i - 1, :] * i)\n",
    "        pl.scatter(t, values, color=color[i - 1][:]/255, label='N%i' %i, s=1.5)\n",
    "    \n",
    "    pl.title('Spike train', fontsize=15)\n",
    "    pl.xlim(0, iterations * dt)\n",
    "    pl.legend()\n",
    "    \n",
    "    counter = counter + 1\n",
    "    \n",
    "    if plot_voltage == 1: \n",
    "        # plot voltage per neuron over time\n",
    "        for i in range(1, N + 1):\n",
    "            pl.subplot(plot, 1, counter)\n",
    "            \n",
    "            pl.plot(t, voltage[i - 1], color=color[i - 1][:]/255, label='voltage')\n",
    "            pl.plot(t, np.ones(iterations) * T[i - 1], color='gray', label='threshold')\n",
    "            pl.plot(t, np.ones(iterations) * E_e, '--r', alpha=0.5, label='Reversal potential E')\n",
    "            pl.plot(t, np.ones(iterations) * E_i, '--b', alpha=0.5, label='Reversal potential I')\n",
    "            \n",
    "            pl.xlim(0, iterations * dt)\n",
    "            pl.ylabel('Voltage')\n",
    "            pl.title('Neuron %i' %i,  fontsize=15)\n",
    "            pl.legend()\n",
    "            counter = counter + 1\n",
    "        \n",
    "    pl.xlabel('time')"
   ]
  },
  {
   "cell_type": "markdown",
   "metadata": {},
   "source": [
    "## Other functions"
   ]
  },
  {
   "cell_type": "markdown",
   "metadata": {},
   "source": [
    "### Membrane voltage "
   ]
  },
  {
   "cell_type": "code",
   "execution_count": 78,
   "metadata": {},
   "outputs": [],
   "source": [
    "def visualize_voltage(rho):\n",
    "    \"\"\" Compute and visualize membrane voltage of each neuron. \"\"\"\n",
    "    \n",
    "    # compute voltage (by method 2)\n",
    "    voltage_offline = np.zeros((N, iterations))\n",
    "    for i in range(N):\n",
    "        voltage_offline[i, :] = np.dot(D[i].T, x - x_est) / np.dot(D[i].T, x + x_est + rho)\n",
    "\n",
    "    # plot voltages\n",
    "    counter = 1\n",
    "    pl.subplots(N, 2, figsize=(14, 4))\n",
    "\n",
    "    for i in range(1, N+1):\n",
    "        pl.subplot(N, 2, counter)\n",
    "        if counter == 1:\n",
    "            pl.title(r'Online $\\frac{dV_{i}}{dt} = D_{i}^{T}(\\frac{x}{\\tau} + \\dot{x}) (1 - V_{i}) + \\sum^{N}_{k = 1} (D_{i}^{T} D_{k} s_{k}) (-1 - V_{i})$',  fontsize=20)\n",
    "        counter = counter + 1\n",
    "        pl.plot(voltage[i - 1, :], color=color[i - 1][:]/255, label='N%i' %i)\n",
    "        pl.plot(t, np.ones(iterations) * T[i - 1], color='gray', label='threshold') \n",
    "        pl.ylabel('voltage')\n",
    "        pl.xlabel('time')\n",
    "        \n",
    "        pl.subplot(N, 2, counter)\n",
    "        if counter == 2:\n",
    "            pl.title(r'Offline $V_{i} = \\frac{D_{i}(x - \\hat{x})}{D_{i}(x + \\hat{x} + \\rho)}$', fontsize=20)\n",
    "        counter = counter + 1\n",
    "        pl.plot(voltage_offline[i - 1, :], color=color[i - 1][:]/255, label='N%i' %i)\n",
    "        pl.plot(t, np.ones(iterations) * T[i - 1], color='gray', label='threshold') \n",
    "        pl.xlabel('time')\n",
    "        pl.legend()\n",
    "        \n",
    "    return voltage_offline"
   ]
  },
  {
   "cell_type": "code",
   "execution_count": 11,
   "metadata": {},
   "outputs": [],
   "source": [
    "def plot_voltage_diff(voltage_online, voltage_offline):\n",
    "    \"\"\" Difference between online and offline voltage. \"\"\"\n",
    "    \n",
    "    pl.rc('text', usetex=True)\n",
    "    pl.plot(t, voltage_online - voltage_offline, 'k')\n",
    "    pl.ylim(-1, 1)\n",
    "    pl.ylabel(r'$V_{online} - V_{offline}$')\n",
    "    pl.xlabel('time')"
   ]
  },
  {
   "cell_type": "markdown",
   "metadata": {},
   "source": [
    "## Run simulation"
   ]
  },
  {
   "cell_type": "code",
   "execution_count": 191,
   "metadata": {},
   "outputs": [
    {
     "data": {
      "image/png": "[encoded data removed]",
      "text/plain": [
       "<Figure size 576x720 with 3 Axes>"
      ]
     },
     "metadata": {},
     "output_type": "display_data"
    }
   ],
   "source": [
    "# Run simulation and plot results for given parameters\n",
    "N = 1                                                    # number of neurons\n",
    "d = 1                                                    # number of dimensions of signal input\n",
    "dt = 0.01                                                # step size\n",
    "iterations = 2000                                        # number of time steps\n",
    "c_upp = 1                                             \n",
    "tau = 1                                                  # time constant\n",
    "beta = 0.0                                               # cost \n",
    "color = np.random.randint(0, 255, size=(N, 3))           # color map for plotting the different neurons\n",
    "E_e = 1\n",
    "E_i = -1\n",
    "rho = 0.1\n",
    "lambda_constant = False\n",
    "var = 1\n",
    "\n",
    "# run simulation\n",
    "# D = initialize_weights(N, d)                                                # initialize decoding weights\n",
    "D = np.zeros((N, d))\n",
    "if d == 1:\n",
    "    if N == 2:\n",
    "        D[0] = 1\n",
    "        D[1] = -1\n",
    "    else:\n",
    "        D[0] = 3\n",
    "t, voltage, x_est, o, T = initialize_params_N(N, d, iterations, dt, D, beta)# initialize parameters\n",
    "c, x = time_varying_signal()                                                # create d-dimensional input signal\n",
    "#c, x = time_varying_signal_pos() \n",
    "run_N(rho, E_e, E_i, lambda_constant=lambda_constant, var=var)              # run spiking network\n",
    "plot_N(color, plot_voltage=1)                                               # plot results"
   ]
  },
  {
   "cell_type": "code",
   "execution_count": 190,
   "metadata": {},
   "outputs": [
    {
     "name": "stdout",
     "output_type": "stream",
     "text": [
      "[0.5]\n",
      "[[1.]]\n",
      "0.7648997026223717\n",
      "-0.8649757818328836\n",
      "24387.25862177381\n",
      "21423.40165584493\n",
      "0.7648997026223717\n",
      "[ 0.7648997   1.75725071  2.7396782   3.71228142  4.6751586   5.62840702\n",
      "  6.57212295  7.50640172  8.4313377   9.34702432 10.25355408 11.15101854\n",
      " 12.03950835]\n",
      "[2.43872586e+04 2.18405770e+01 1.03585680e+01 6.52768549e+00\n",
      " 4.61143047e+00 3.46140228e+00 2.69461474e+00 2.14687729e+00\n",
      " 1.73607435e+00 1.41657711e+00 1.16100370e+00 9.51926830e-01\n",
      " 7.77726817e-01]\n"
     ]
    },
    {
     "data": {
      "image/png": "[encoded data removed]",
      "text/plain": [
       "<Figure size 432x288 with 1 Axes>"
      ]
     },
     "metadata": {},
     "output_type": "display_data"
    }
   ],
   "source": [
    "start = 333\n",
    "end = 346\n",
    "\n",
    "x_est[0,348:360]\n",
    "print(T)\n",
    "print(D)\n",
    "print(x_est[0, 333])\n",
    "print(x[0, 333])\n",
    "print(voltage[0, 333])\n",
    "print(voltage_offline[0, 333])\n",
    "\n",
    "print(min(x_est[0, start:end]))\n",
    "pl.plot(x_est[0, start:end])\n",
    "\n",
    "print(x_est[0, start:end])\n",
    "print(voltage[0, start:end])"
   ]
  },
  {
   "cell_type": "code",
   "execution_count": 183,
   "metadata": {},
   "outputs": [
    {
     "name": "stdout",
     "output_type": "stream",
     "text": [
      "0.7648997026223717\n",
      "-0.8649757818328836\n",
      "24387.25862177381\n"
     ]
    },
    {
     "data": {
      "text/plain": [
       "array([21423.40165584])"
      ]
     },
     "execution_count": 183,
     "metadata": {},
     "output_type": "execute_result"
    }
   ],
   "source": [
    "print(x_est[0, 333])\n",
    "print(x[0, 333])\n",
    "print(voltage[0, 333])\n",
    "\n",
    "X = x[0, 333]\n",
    "X_EST = x_est[0, 333]\n",
    "\n",
    "V = (D[0] * ((X) - X_EST)) / (D[0] * (X + X_EST + rho))\n",
    "V\n",
    "# (D[0] * ((X) - X_EST)) \n",
    "# (D[0] * (X + X_EST))"
   ]
  },
  {
   "cell_type": "code",
   "execution_count": 179,
   "metadata": {},
   "outputs": [
    {
     "name": "stdout",
     "output_type": "stream",
     "text": [
      "0.7648997026223717\n",
      "0.8649048480450108\n",
      "[-0.32165859]\n"
     ]
    }
   ],
   "source": [
    "start = 333\n",
    "X = x[0, start]\n",
    "\n",
    "\n",
    "X_EST = x_est[0, start]\n",
    "print(X_EST)\n",
    "\n",
    "X_HAT2 = (X - X * voltage[0, start]) / (voltage[0, start] + 1)\n",
    "print(X_HAT2)\n",
    "\n",
    "X_HAT = (D[0] * X - T[0] * D[0] * X - T[0] * D[0] * rho)/ (T[0] + 1)\n",
    "print(X_HAT)\n",
    "# D[0] * X - T[0] * D[0] * X - T[0] * D[0] * rho\n",
    "# T[0] + 1\n"
   ]
  },
  {
   "cell_type": "code",
   "execution_count": 180,
   "metadata": {},
   "outputs": [
    {
     "data": {
      "image/png": "[encoded data removed]",
      "text/plain": [
       "<Figure size 1008x288 with 2 Axes>"
      ]
     },
     "metadata": {},
     "output_type": "display_data"
    }
   ],
   "source": [
    "voltage_offline = visualize_voltage(rho)"
   ]
  },
  {
   "cell_type": "code",
   "execution_count": 82,
   "metadata": {},
   "outputs": [
    {
     "data": {
      "image/png": "[encoded data removed]",
      "text/plain": [
       "<Figure size 432x288 with 1 Axes>"
      ]
     },
     "metadata": {},
     "output_type": "display_data"
    }
   ],
   "source": [
    "plot_voltage_diff(voltage[0, :], voltage_offline[0, :])"
   ]
  }
 ],
 "metadata": {
  "kernelspec": {
   "display_name": "Python 3",
   "language": "python",
   "name": "python3"
  },
  "language_info": {
   "codemirror_mode": {
    "name": "ipython",
    "version": 3
   },
   "file_extension": ".py",
   "mimetype": "text/x-python",
   "name": "python",
   "nbconvert_exporter": "python",
   "pygments_lexer": "ipython3",
   "version": "3.6.5"
  }
 },
 "nbformat": 4,
 "nbformat_minor": 2
}
