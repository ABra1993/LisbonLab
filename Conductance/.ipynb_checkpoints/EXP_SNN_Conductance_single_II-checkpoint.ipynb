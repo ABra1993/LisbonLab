{
 "cells": [
  {
   "cell_type": "code",
   "execution_count": 11,
   "metadata": {},
   "outputs": [],
   "source": [
    "import numpy as np\n",
    "import pylab as pl\n",
    "import math\n",
    "from scipy.signal import sweep_poly\n",
    "from scipy.ndimage.filters import gaussian_filter1d"
   ]
  },
  {
   "cell_type": "markdown",
   "metadata": {},
   "source": [
    "Following functions are used for plotting the results"
   ]
  },
  {
   "cell_type": "code",
   "execution_count": 22,
   "metadata": {},
   "outputs": [],
   "source": [
    "def zero_to_nan(values):\n",
    "    \"\"\"Replace every 0 with 'nan' and return a copy.\"\"\"\n",
    "    \n",
    "    return [float('nan') if x==0 else x for x in values]"
   ]
  },
  {
   "cell_type": "code",
   "execution_count": 7,
   "metadata": {},
   "outputs": [],
   "source": [
    "def initialize_params_single(dt, iterations, D):\n",
    "    \n",
    "    # timesteps\n",
    "    t = np.arange(0, iterations) * dt\n",
    "\n",
    "    # input estimate\n",
    "    x_est = np.zeros(iterations)\n",
    "\n",
    "    # spike train\n",
    "    o = np.zeros(iterations)\n",
    "\n",
    "    # voltage\n",
    "    voltage = np.zeros(iterations)\n",
    "\n",
    "    # threshold\n",
    "    T = (D**2) / 2\n",
    "    \n",
    "    # spike times\n",
    "    spike = []\n",
    "    t_spike = []\n",
    "    \n",
    "    return (t, x_est, o, voltage, T, spike, t_spike) "
   ]
  },
  {
   "cell_type": "code",
   "execution_count": 8,
   "metadata": {},
   "outputs": [],
   "source": [
    "def time_varying_signal(c_upp=3):\n",
    "    \n",
    "    # create time-varying signal\n",
    "    x = c_upp\n",
    "    x_t = np.ones(iterations) * x\n",
    "\n",
    "    step = 100\n",
    "    x_t[0:step] = 0\n",
    "    x_t[iterations - 2 * step:iterations] = 3\n",
    "\n",
    "    x = gaussian_filter1d(x_t, sigma=20) # smooth signal\n",
    "\n",
    "    dxdt = np.diff(x)/dt\n",
    "    c = x[:-1] + dxdt\n",
    "    \n",
    "    return (x, c)"
   ]
  },
  {
   "cell_type": "code",
   "execution_count": 9,
   "metadata": {},
   "outputs": [],
   "source": [
    "def run_single():\n",
    "    for t in range(1, iterations):\n",
    "\n",
    "        # udpate input estimate\n",
    "        dxestdt = -x_est[t - 1] + D * o[t - 1]\n",
    "        x_est[t] = x_est[t - 1] + dt * dxestdt \n",
    "\n",
    "        # update voltage\n",
    "        \n",
    "        dVdt = (c[t - 1] * (1/tau)) - D * o[t - 1] * (voltage[t - 1] + 1)\n",
    "        \n",
    "        #(-c[t - 1] * voltage[t - 1] + c [t - 1] - D * o[t - 1] * (voltage[t - 1] + 1)) * (1/4)\n",
    "        voltage[t] = voltage[t - 1] + dt * dVdt\n",
    "\n",
    "        # spike when voltage exceeds threshold\n",
    "        if voltage[t] > T:\n",
    "            o[t] = 1/dt\n",
    "\n",
    "            # save spike times\n",
    "            spike.append(1)\n",
    "            t_spike.append(t)"
   ]
  },
  {
   "cell_type": "code",
   "execution_count": 10,
   "metadata": {},
   "outputs": [],
   "source": [
    "def plot_single():\n",
    "    plots = 3\n",
    "    pl.subplots(plots, 1, figsize=(8, 4))\n",
    "\n",
    "    # enable LaTeX\n",
    "    pl.rc('text', usetex=True)\n",
    "\n",
    "    pl.subplot(plots, 1, 1)\n",
    "    pl.plot(x, label=r'$x$', color='black')\n",
    "    pl.title('Input and input estimate')\n",
    "    pl.plot(x_est, label=r'$\\hat{x}$', color='gray')\n",
    "    pl.xlim(0, iterations)\n",
    "    pl.legend()\n",
    "\n",
    "    pl.subplot(plots, 1, 2)\n",
    "    pl.title('Spikes')\n",
    "    pl.plot(voltage, 'k')\n",
    "    pl.xlim(0, iterations)\n",
    "\n",
    "    pl.subplot(plots, 1, 3)\n",
    "    pl.title('Voltage')\n",
    "    pl.scatter(t_spike, spike, c='k')\n",
    "    pl.xlim(0, iterations)\n",
    "    pl.yticks([])\n",
    "    pl.xlabel('time')"
   ]
  },
  {
   "cell_type": "markdown",
   "metadata": {},
   "source": [
    "## Simulation SNN"
   ]
  },
  {
   "cell_type": "markdown",
   "metadata": {},
   "source": [
    "### Time varying signal"
   ]
  },
  {
   "cell_type": "markdown",
   "metadata": {},
   "source": [
    "Create time varying signal"
   ]
  },
  {
   "cell_type": "code",
   "execution_count": 13,
   "metadata": {},
   "outputs": [],
   "source": [
    "# def time_varying_signal(c_upp=3):\n",
    "\n",
    "#     # create time-varying signal\n",
    "#     x = c_upp\n",
    "#     x_t = np.ones(iterations) * x\n",
    "\n",
    "#     step = 150\n",
    "#     x_t[0:step] = 0\n",
    "#     x_t[iterations - 4 * step:iterations] = 1\n",
    "\n",
    "#     x = gaussian_filter1d(x_t, sigma=20) # smooth signal\n",
    "\n",
    "#     dxdt = np.diff(x)/dt\n",
    "#     c = x[:-1] + dxdt\n",
    "    \n",
    "#     return (x, c)"
   ]
  },
  {
   "cell_type": "markdown",
   "metadata": {},
   "source": [
    "### Run simulation"
   ]
  },
  {
   "cell_type": "code",
   "execution_count": 45,
   "metadata": {},
   "outputs": [],
   "source": [
    "def run(noise_signal=0):\n",
    "    \n",
    "    neurons = np.arange(0, N, 1)\n",
    "    \n",
    "    for t in range(1, iterations):\n",
    "\n",
    "        # update input estimate\n",
    "        dxestdt = -x_est[t - 1] + np.dot(D, o[:, t - 1])\n",
    "        x_est[t] = x_est[t - 1] + dt * dxestdt\n",
    "        \n",
    "        # update voltage\n",
    "        dVdt = -(c[t - 1]) * voltage[:, t - 1] + c[t - 1] + np.dot(D, o[:, t - 1]) * (voltage[:, t - 1] + 1)\n",
    "        voltage[:, t] = voltage[:, t - 1] + dt * dVdt\n",
    "\n",
    "        # check for neurons with voltages above threshold\n",
    "        above_threshold = neurons[np.where(voltage[:, t] > T)]\n",
    "\n",
    "        # reset neuron when threshold is exceeded\n",
    "        if len(above_threshold) > 0:\n",
    "\n",
    "            # select random neuron who's voltage is above threshold\n",
    "            spike_neuron = np.random.choice(above_threshold)\n",
    "\n",
    "            # update spikes\n",
    "            o[spike_neuron, t] = 1/dt"
   ]
  },
  {
   "cell_type": "markdown",
   "metadata": {},
   "source": [
    "### Plot results"
   ]
  },
  {
   "cell_type": "code",
   "execution_count": 15,
   "metadata": {},
   "outputs": [],
   "source": [
    "def plot(E, color, plot_voltage=1):\n",
    "    plots = N + 2\n",
    "    pl.subplots(plots, 1, figsize=(14, 12)) \n",
    "    pl.subplots_adjust(hspace=0.7)\n",
    "\n",
    "    # enable LaTeX\n",
    "    pl.rc('text', usetex=True)\n",
    "\n",
    "    pl.subplot(plots, 1, 1)\n",
    "    pl.title('Input and input estimate', fontsize=25)\n",
    "    pl.plot(x, label=r'$x$', color='black')\n",
    "    pl.plot(x_est, label=r'$\\hat{x}$', color='gray')\n",
    "    pl.xlim(0, iterations)\n",
    "    pl.legend()\n",
    "    \n",
    "    pl.subplot(plots, 1, 2)\n",
    "    pl.title('Spikes', fontsize=25)\n",
    "    for i in range(1, N + 1):\n",
    "        \n",
    "        values = zero_to_nan(o[i - 1, :] * i)\n",
    "                \n",
    "        pl.scatter(np.arange(0, iterations), values, color=color[i - 1][:]/255, label='Neuron %i' %i)\n",
    "        pl.yticks([])\n",
    "        pl.xticks([])\n",
    "        pl.title('Spike train', fontsize=25)\n",
    "        pl.ylim(0, 100 * N + 100)\n",
    "        pl.xlim(0, iterations)\n",
    "        \n",
    "    # Put a legend to the right of the current axis\n",
    "    pl.legend(loc='center left', bbox_to_anchor=(1, 0.5)) \n",
    "    counter = 3\n",
    "\n",
    "    for i in range(1, N + 1):\n",
    "        neuron = i + 1\n",
    "\n",
    "        pl.subplot(plots, 1, counter)\n",
    "        pl.title('Voltage N%i' %i, fontsize=25)\n",
    "        pl.plot(voltage[i - 1], color=color[i - 1][:]/255, label='N%i'%i)\n",
    "        pl.plot(np.arange(0, iterations), np.ones(iterations) * T[i - 1], color='gray', label='threshold')\n",
    "        pl.xlim(0, iterations)\n",
    "        pl.ylabel('Voltage')\n",
    "        pl.ylim(voltage.min() - 0.2 * (voltage.max() - voltage.min()), voltage.max() + 0.2 * (voltage.max() - voltage.min()))\n",
    "        pl.legend()\n",
    "\n",
    "        counter = counter + 1"
   ]
  },
  {
   "cell_type": "markdown",
   "metadata": {},
   "source": [
    "## Initialize parameters"
   ]
  },
  {
   "cell_type": "markdown",
   "metadata": {},
   "source": [
    "Homogeneous network"
   ]
  },
  {
   "cell_type": "code",
   "execution_count": 43,
   "metadata": {},
   "outputs": [],
   "source": [
    "def initialize_params_homogeneous(N, dt, iterations, gamma, beta = 0):\n",
    "\n",
    "    # timesteps\n",
    "    t = np.arange(0, iterations) * dt\n",
    "\n",
    "    # input estimate\n",
    "    x_est = np.zeros(iterations)\n",
    "\n",
    "    # spike trains\n",
    "    o = np.zeros((N, iterations))\n",
    "\n",
    "    # voltages\n",
    "    voltage = np.zeros((N, iterations))\n",
    "\n",
    "    # ''output kernel''\n",
    "    D = np.ones((1, N)) * gamma\n",
    "\n",
    "    # threshold\n",
    "    # T = [(weight ** 2)/2 + beta/2 for weight in D[0]]\n",
    "    T = np.ones(N)\n",
    "\n",
    "    return (t, x_est, o, voltage, D, T) "
   ]
  },
  {
   "cell_type": "markdown",
   "metadata": {},
   "source": [
    "Heterogeneous network"
   ]
  },
  {
   "cell_type": "code",
   "execution_count": 31,
   "metadata": {},
   "outputs": [],
   "source": [
    "def initialize_params_heterogeneous(N, dt, iterations, beta):\n",
    "\n",
    "    # timesteps\n",
    "    t = np.arange(0, iterations) * dt\n",
    "\n",
    "    # input estimate\n",
    "    x_est = np.zeros(iterations)\n",
    "\n",
    "    # spike trains\n",
    "    o = np.zeros((N, iterations))\n",
    "\n",
    "    # voltages\n",
    "    voltage = np.zeros((N, iterations))\n",
    "\n",
    "    # ''output kernel''\n",
    "    D = np.random.normal(1/N, 0.5, size=(1,N))\n",
    "\n",
    "    # threshold\n",
    "    # T = [(weight ** 2)/2 + beta/2 for weight in D[0]]\n",
    "    T = np.ones(N)\n",
    "\n",
    "    return (t, x_est, o, voltage, D, T) "
   ]
  },
  {
   "cell_type": "markdown",
   "metadata": {},
   "source": [
    "## $\\textit{N}$-neurons (homogeneous network)"
   ]
  },
  {
   "cell_type": "markdown",
   "metadata": {},
   "source": [
    "Initialize parameters"
   ]
  },
  {
   "cell_type": "code",
   "execution_count": 50,
   "metadata": {},
   "outputs": [
    {
     "name": "stdout",
     "output_type": "stream",
     "text": [
      "[[0.5 0.5]]\n"
     ]
    },
    {
     "data": {
      "image/png": "[encoded data removed]",
      "text/plain": [
       "<Figure size 1008x864 with 4 Axes>"
      ]
     },
     "metadata": {},
     "output_type": "display_data"
    }
   ],
   "source": [
    "# Run simulation and plot results for given parameters\n",
    "N = 2                                                    # number of neurons  \n",
    "c_upp = 4                                                # value input signal\n",
    "dt = 0.01                                                # step size\n",
    "iterations = 800                                         # number of time steps\n",
    "gamma = 0.5                                              # weights\n",
    "tau = 1                                                  # time constant\n",
    "color = np.random.randint(0, 255, size=(N, 3))           # return set of colors\n",
    "\n",
    "# run simulation\n",
    "t, x_est, o, voltage, D, T = initialize_params_homogeneous(N, dt, iterations, gamma, beta)\n",
    "x,c = time_varying_signal(c_upp)\n",
    "run(noise_signal=0)\n",
    "plot(E, color, plot_voltage=1)\n",
    "print(D)"
   ]
  },
  {
   "cell_type": "code",
   "execution_count": 51,
   "metadata": {},
   "outputs": [
    {
     "data": {
      "image/png": "[encoded data removed]",
      "text/plain": [
       "<Figure size 576x288 with 3 Axes>"
      ]
     },
     "metadata": {},
     "output_type": "display_data"
    }
   ],
   "source": [
    "# initialize parameters\n",
    "iterations = 800\n",
    "dt = 0.01\n",
    "D = 1\n",
    "beta = 0\n",
    "tau = 1\n",
    "\n",
    "t, x_est, o, voltage, T, spike, t_spike = initialize_params_single(dt, iterations, D)\n",
    "x, c = time_varying_signal(8)\n",
    "run_single()\n",
    "plot_single()"
   ]
  },
  {
   "cell_type": "code",
   "execution_count": null,
   "metadata": {},
   "outputs": [],
   "source": []
  },
  {
   "cell_type": "code",
   "execution_count": null,
   "metadata": {},
   "outputs": [],
   "source": []
  },
  {
   "cell_type": "code",
   "execution_count": null,
   "metadata": {},
   "outputs": [],
   "source": []
  },
  {
   "cell_type": "code",
   "execution_count": null,
   "metadata": {},
   "outputs": [],
   "source": []
  },
  {
   "cell_type": "code",
   "execution_count": null,
   "metadata": {},
   "outputs": [],
   "source": []
  },
  {
   "cell_type": "code",
   "execution_count": null,
   "metadata": {},
   "outputs": [],
   "source": []
  }
 ],
 "metadata": {
  "kernelspec": {
   "display_name": "Python 3",
   "language": "python",
   "name": "python3"
  },
  "language_info": {
   "codemirror_mode": {
    "name": "ipython",
    "version": 3
   },
   "file_extension": ".py",
   "mimetype": "text/x-python",
   "name": "python",
   "nbconvert_exporter": "python",
   "pygments_lexer": "ipython3",
   "version": "3.6.5"
  }
 },
 "nbformat": 4,
 "nbformat_minor": 2
}
