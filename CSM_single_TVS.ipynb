{
 "cells": [
  {
   "cell_type": "markdown",
   "metadata": {},
   "source": [
    "# Coördinated Spiking Model (single neuron)"
   ]
  },
  {
   "cell_type": "markdown",
   "metadata": {},
   "source": [
    "Install required packages:"
   ]
  },
  {
   "cell_type": "code",
   "execution_count": 2,
   "metadata": {},
   "outputs": [],
   "source": [
    "import numpy as np\n",
    "import pylab as pl"
   ]
  },
  {
   "cell_type": "markdown",
   "metadata": {},
   "source": [
    "Initiate parameters:"
   ]
  },
  {
   "cell_type": "code",
   "execution_count": 150,
   "metadata": {},
   "outputs": [],
   "source": [
    "# timesteps\n",
    "dt = 0.01\n",
    "iterations = 800\n",
    "xtime = np.arange(0, iterations) * dt\n",
    "\n",
    "# read-out over time\n",
    "xhat = np.ones(iterations) * 0\n",
    "\n",
    "# signal over time\n",
    "x = 5\n",
    "x_t = np.ones(iterations) * x\n",
    "\n",
    "step = 150\n",
    "x_t[0:step] = 0\n",
    "x_t[iterations - 2 * step:iterations] = 3\n",
    "\n",
    "# derivative of signal over time\n",
    "dxdt = np.diff(x_t)/dt\n",
    "\n",
    "# neural input over time\n",
    "c = x_t[:-1] + dxdt\n",
    "\n",
    "# voltage/error over time\n",
    "V = np.zeros(iterations)\n",
    "dVdt = np.zeros(iterations)\n",
    "voltages = np.zeros(iterations)\n",
    "\n",
    "# spikes over time\n",
    "spike = np.zeros(iterations)\n",
    "o = np.zeros(iterations)\n",
    "\n",
    "# read-out weight\n",
    "gamma = 2\n",
    "\n",
    "# threshold\n",
    "T = gamma**2 / 2"
   ]
  },
  {
   "cell_type": "markdown",
   "metadata": {},
   "source": [
    "Run simulation:"
   ]
  },
  {
   "cell_type": "code",
   "execution_count": 151,
   "metadata": {},
   "outputs": [],
   "source": [
    "for t in range(1, iterations):\n",
    "    \n",
    "    # update read-out\n",
    "    dxhatdt = -xhat[t - 1] + gamma * o[t - 1]\n",
    "    xhat[t] = xhat[t - 1] + dt * dxhatdt\n",
    "    \n",
    "    # compute error\n",
    "    dVdt = -voltages[t - 1] + gamma * c[t - 1] - o[t - 1] * (gamma ** 2)\n",
    "    voltages[t] =  voltages[t - 1] + dt * dVdt\n",
    "\n",
    "    # reset neuron when threshold is exceeded\n",
    "    if voltages[t] > T:\n",
    "        \n",
    "        # update spikes\n",
    "        o[t] = 1/dt\n",
    "        spike[t] = 1"
   ]
  },
  {
   "cell_type": "markdown",
   "metadata": {},
   "source": [
    "Plot results:"
   ]
  },
  {
   "cell_type": "code",
   "execution_count": 152,
   "metadata": {},
   "outputs": [
    {
     "data": {
      "text/plain": [
       "([], <a list of 0 Text xticklabel objects>)"
      ]
     },
     "execution_count": 152,
     "metadata": {},
     "output_type": "execute_result"
    },
    {
     "data": {
      "image/png": "[encoded data removed]",
      "text/plain": [
       "<Figure size 432x288 with 3 Axes>"
      ]
     },
     "metadata": {},
     "output_type": "display_data"
    }
   ],
   "source": [
    "start = 0\n",
    "end = iterations\n",
    "plots = 3\n",
    "\n",
    "# enable LaTeX\n",
    "pl.rc('text', usetex=True)\n",
    "\n",
    "# plot input and read-out\n",
    "pl.subplot(plots, 1, 1)\n",
    "pl.plot(xhat[start:end], color='blue', label=r'$\\hat{x}$')\n",
    "pl.plot(x_t[start:end], color='red', label=r'$x$')\n",
    "pl.yticks([])\n",
    "pl.xticks([])\n",
    "pl.legend()\n",
    "\n",
    "# plot voltage\n",
    "pl.subplot(plots, 1, 2)\n",
    "pl.plot(voltages[start:end], color='black')\n",
    "#pl.ylabel(r'$V$')\n",
    "# pl.yticks([])\n",
    "pl.xticks([])\n",
    "\n",
    "# plot spikes\n",
    "pl.subplot(plots, 1, 3)\n",
    "pl.plot(spike[start:end], color='lightgrey')\n",
    "# pl.xlabel('time')\n",
    "pl.yticks([])\n",
    "pl.xticks([])"
   ]
  }
 ],
 "metadata": {
  "kernelspec": {
   "display_name": "Python 3",
   "language": "python",
   "name": "python3"
  },
  "language_info": {
   "codemirror_mode": {
    "name": "ipython",
    "version": 3
   },
   "file_extension": ".py",
   "mimetype": "text/x-python",
   "name": "python",
   "nbconvert_exporter": "python",
   "pygments_lexer": "ipython3",
   "version": "3.6.5"
  }
 },
 "nbformat": 4,
 "nbformat_minor": 2
}
