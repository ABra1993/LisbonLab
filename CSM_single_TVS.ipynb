{
 "cells": [
  {
   "cell_type": "markdown",
   "metadata": {},
   "source": [
    "# Coördinated Spiking Model (single neuron)"
   ]
  },
  {
   "cell_type": "markdown",
   "metadata": {},
   "source": [
    "Install required packages:"
   ]
  },
  {
   "cell_type": "code",
   "execution_count": 1,
   "metadata": {},
   "outputs": [],
   "source": [
    "import numpy as np\n",
    "import pylab as pl"
   ]
  },
  {
   "cell_type": "markdown",
   "metadata": {},
   "source": [
    "Initiate parameters:"
   ]
  },
  {
   "cell_type": "code",
   "execution_count": 2,
   "metadata": {},
   "outputs": [],
   "source": [
    "# timesteps\n",
    "dt = 0.01\n",
    "iterations = 800\n",
    "xtime = np.arange(0, iterations) * dt\n",
    "\n",
    "# neural input\n",
    "x = 5\n",
    "dxdt = 0\n",
    "c = x + dxdt\n",
    "\n",
    "# read-out over time\n",
    "xhat = np.ones(iterations) * 0\n",
    "x_t = np.ones(iterations) * c\n",
    "\n",
    "step = 150\n",
    "\n",
    "x_t[0:step] = 0\n",
    "x_t[iterations - 2 * step:iterations] = 3\n",
    "\n",
    "# voltage/error over time\n",
    "V = np.zeros(iterations)\n",
    "dVdt = np.zeros(iterations)\n",
    "voltages = np.zeros(iterations)\n",
    "\n",
    "# spikes over time\n",
    "spike = np.zeros(iterations)\n",
    "o = np.zeros(iterations)\n",
    "\n",
    "# read-out weight\n",
    "gamma = 2\n",
    "\n",
    "# threshold\n",
    "T = gamma**2 / 2"
   ]
  },
  {
   "cell_type": "markdown",
   "metadata": {},
   "source": [
    "Run simulation:"
   ]
  },
  {
   "cell_type": "code",
   "execution_count": 3,
   "metadata": {},
   "outputs": [],
   "source": [
    "for t in range(1, iterations):\n",
    "    \n",
    "    # update read-out\n",
    "    dxhatdt = -xhat[t - 1] + gamma * o[t - 1]\n",
    "    xhat[t] = xhat[t - 1] + dt * dxhatdt\n",
    "    \n",
    "    # compute error\n",
    "    V[t] = gamma * (x_t[t] - xhat[t])\n",
    "    \n",
    "    dVdt = gamma * x_t[t - 1] - o[t - 1] * (gamma ** 2)\n",
    "    voltages[t] =  voltages[t - 1] + dt * dVdt\n",
    "\n",
    "    # reset neuron when threshold is exceeded\n",
    "    if V[t] > T:\n",
    "        \n",
    "        # update spikes\n",
    "        o[t] = 1/dt\n",
    "        spike[t] = 1\n",
    "        \n",
    "        # reset voltage\n",
    "        voltages[t] = -T"
   ]
  },
  {
   "cell_type": "markdown",
   "metadata": {},
   "source": [
    "Plot results:"
   ]
  },
  {
   "cell_type": "code",
   "execution_count": 4,
   "metadata": {},
   "outputs": [
    {
     "data": {
      "text/plain": [
       "([], <a list of 0 Text xticklabel objects>)"
      ]
     },
     "execution_count": 4,
     "metadata": {},
     "output_type": "execute_result"
    },
    {
     "data": {
      "image/png": "[encoded data removed]",
      "text/plain": [
       "<Figure size 432x288 with 3 Axes>"
      ]
     },
     "metadata": {},
     "output_type": "display_data"
    }
   ],
   "source": [
    "plots = 3\n",
    "\n",
    "# enable LaTeX\n",
    "pl.rc('text', usetex=True)\n",
    "\n",
    "# plot input and read-out\n",
    "pl.subplot(plots, 1, 1)\n",
    "pl.plot(xhat, color='blue', label=r'$\\hat{x}$')\n",
    "pl.plot(x_t, color='red', label=r'$x$')\n",
    "pl.yticks([])\n",
    "pl.xticks([])\n",
    "# pl.legend()\n",
    "\n",
    "# plot voltage\n",
    "pl.subplot(plots, 1, 2)\n",
    "pl.plot(voltages, color='black')\n",
    "#pl.ylabel(r'$V$')\n",
    "pl.yticks([])\n",
    "pl.xticks([])\n",
    "\n",
    "# plot spikes\n",
    "pl.subplot(plots, 1, 3)\n",
    "pl.plot(spike, color='lightgrey')\n",
    "#pl.xlabel('time')\n",
    "pl.yticks([])\n",
    "pl.xticks([])"
   ]
  }
 ],
 "metadata": {
  "kernelspec": {
   "display_name": "Python 3",
   "language": "python",
   "name": "python3"
  },
  "language_info": {
   "codemirror_mode": {
    "name": "ipython",
    "version": 3
   },
   "file_extension": ".py",
   "mimetype": "text/x-python",
   "name": "python",
   "nbconvert_exporter": "python",
   "pygments_lexer": "ipython3",
   "version": "3.6.5"
  }
 },
 "nbformat": 4,
 "nbformat_minor": 2
}
