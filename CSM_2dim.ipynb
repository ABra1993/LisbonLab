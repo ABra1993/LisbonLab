{
 "cells": [
  {
   "cell_type": "markdown",
   "metadata": {},
   "source": [
    "# Coördinated Spiking Model"
   ]
  },
  {
   "cell_type": "markdown",
   "metadata": {},
   "source": [
    "Install required packages"
   ]
  },
  {
   "cell_type": "code",
   "execution_count": 1,
   "metadata": {},
   "outputs": [],
   "source": [
    "import numpy as np\n",
    "import pylab as pl\n",
    "from scipy.signal import sweep_poly\n",
    "from scipy.ndimage.filters import gaussian_filter1d"
   ]
  },
  {
   "cell_type": "markdown",
   "metadata": {},
   "source": [
    "## Single-neuron"
   ]
  },
  {
   "cell_type": "markdown",
   "metadata": {},
   "source": [
    "Number of dimensions"
   ]
  },
  {
   "cell_type": "code",
   "execution_count": 2,
   "metadata": {},
   "outputs": [],
   "source": [
    "d = 2"
   ]
  },
  {
   "cell_type": "markdown",
   "metadata": {},
   "source": [
    "Initialize parameters"
   ]
  },
  {
   "cell_type": "code",
   "execution_count": 87,
   "metadata": {},
   "outputs": [
    {
     "name": "stdout",
     "output_type": "stream",
     "text": [
      "0.25\n"
     ]
    }
   ],
   "source": [
    "# timesteps\n",
    "dt = 0.01\n",
    "iterations = 200\n",
    "t = np.arange(0, iterations) * dt\n",
    "\n",
    "# voltage\n",
    "voltage = np.zeros(iterations)\n",
    "\n",
    "# input estimate\n",
    "x_est = np.zeros((d, iterations))\n",
    "\n",
    "# spike train\n",
    "o = np.zeros(iterations)\n",
    "\n",
    "# spike times\n",
    "spike = []\n",
    "t_spike = []\n",
    "\n",
    "# input signal\n",
    "x = [0.5, 0.5]\n",
    "\n",
    "# decoding weights\n",
    "D = np.zeros(d)\n",
    "D[0] = 0.5\n",
    "D[1] = 0.5\n",
    "\n",
    "# threshold\n",
    "T = np.dot(D, D) / 2\n",
    "print(T)"
   ]
  },
  {
   "cell_type": "code",
   "execution_count": 88,
   "metadata": {},
   "outputs": [],
   "source": [
    "for t in range(1, iterations):\n",
    "    \n",
    "    # update input estimate\n",
    "    dxestdt = -x_est[:, t - 1] + o[t - 1] * D.T\n",
    "    x_est[:, t] = x_est[:, t - 1] + dt * dxestdt\n",
    "    \n",
    "    # update voltage\n",
    "    dVdt = -voltage[t - 1] + np.dot(D, x) - np.dot(D, D) * o[t - 1]\n",
    "    voltage[t] = voltage[t - 1] + dt * dVdt\n",
    "    \n",
    "        # spike when voltage exceeds threshold\n",
    "    if voltage[t] > T:\n",
    "        o[t] = 1/dt\n",
    "        \n",
    "        # save spike times\n",
    "        spike.append(1)\n",
    "        t_spike.append(t)\n"
   ]
  },
  {
   "cell_type": "code",
   "execution_count": 90,
   "metadata": {},
   "outputs": [
    {
     "data": {
      "text/plain": [
       "(0, 200)"
      ]
     },
     "execution_count": 90,
     "metadata": {},
     "output_type": "execute_result"
    },
    {
     "data": {
      "image/png": "[encoded data removed]",
      "text/plain": [
       "<Figure size 432x288 with 2 Axes>"
      ]
     },
     "metadata": {},
     "output_type": "display_data"
    }
   ],
   "source": [
    "\n",
    "pl.subplot(2, 1, 1)\n",
    "pl.scatter(x_est[0, :], x_est[1, :])\n",
    "pl.scatter(x[0], x[1])\n",
    "\n",
    "pl.subplot(2, 1, 2)\n",
    "pl.scatter(t_spike, spike)\n",
    "pl.xlim(0, 200)\n"
   ]
  },
  {
   "cell_type": "code",
   "execution_count": 80,
   "metadata": {},
   "outputs": [
    {
     "data": {
      "text/plain": [
       "[<matplotlib.lines.Line2D at 0x24bf4a51550>]"
      ]
     },
     "execution_count": 80,
     "metadata": {},
     "output_type": "execute_result"
    },
    {
     "data": {
      "image/png": "[encoded data removed]",
      "text/plain": [
       "<Figure size 432x288 with 1 Axes>"
      ]
     },
     "metadata": {},
     "output_type": "display_data"
    }
   ],
   "source": [
    "pl.plot(voltage)"
   ]
  },
  {
   "cell_type": "code",
   "execution_count": 81,
   "metadata": {},
   "outputs": [
    {
     "name": "stdout",
     "output_type": "stream",
     "text": [
      "[ 0.00000000e+00  5.00000000e-03  9.95000000e-03  1.48505000e-02\n",
      "  1.97019950e-02  2.45049750e-02  2.92599253e-02  3.39673260e-02\n",
      "  3.86276528e-02  4.32413763e-02  4.78089625e-02  5.23308729e-02\n",
      "  5.68075641e-02  6.12394885e-02  6.56270936e-02  6.99708227e-02\n",
      "  7.42711145e-02  7.85284033e-02  8.27431193e-02  8.69156881e-02\n",
      "  9.10465312e-02  9.51360659e-02  9.91847052e-02  1.03192858e-01\n",
      "  1.07160930e-01  1.11089320e-01  1.14978427e-01  1.18828643e-01\n",
      "  1.22640356e-01  1.26413953e-01  1.30149813e-01  1.33848315e-01\n",
      "  1.37509832e-01  1.41134734e-01  1.44723386e-01  1.48276153e-01\n",
      "  1.51793391e-01  1.55275457e-01  1.58722702e-01  1.62135475e-01\n",
      "  1.65514121e-01  1.68858980e-01  1.72170390e-01  1.75448686e-01\n",
      "  1.78694199e-01  1.81907257e-01  1.85088184e-01  1.88237303e-01\n",
      "  1.91354930e-01  1.94441380e-01  1.97496966e-01  2.00521997e-01\n",
      "  2.03516777e-01  2.06481609e-01  2.09416793e-01  2.12322625e-01\n",
      "  2.15199399e-01  2.18047405e-01  2.20866931e-01  2.23658261e-01\n",
      "  2.26421679e-01  2.29157462e-01  2.31865887e-01  2.34547229e-01\n",
      "  2.37201756e-01  2.39829739e-01  2.42431441e-01  2.45007127e-01\n",
      "  2.47557056e-01  2.50081485e-01 -2.47419330e-01 -2.39945137e-01\n",
      " -2.32545685e-01 -2.25220228e-01 -2.17968026e-01 -2.10788346e-01\n",
      " -2.03680462e-01 -1.96643658e-01 -1.89677221e-01 -1.82780449e-01\n",
      " -1.75952644e-01 -1.69193118e-01 -1.62501187e-01 -1.55876175e-01\n",
      " -1.49317413e-01 -1.42824239e-01 -1.36395997e-01 -1.30032037e-01\n",
      " -1.23731716e-01 -1.17494399e-01 -1.11319455e-01 -1.05206261e-01\n",
      " -9.91541980e-02 -9.31626560e-02 -8.72310294e-02 -8.13587191e-02\n",
      " -7.55451320e-02 -6.97896806e-02 -6.40917838e-02 -5.84508660e-02\n",
      " -5.28663573e-02 -4.73376938e-02 -4.18643168e-02 -3.64456737e-02\n",
      " -3.10812169e-02 -2.57704047e-02 -2.05127007e-02 -1.53075737e-02\n",
      " -1.01544980e-02 -5.05295298e-03 -2.42344535e-06  4.99760079e-03\n",
      "  9.94762478e-03  1.48481485e-02  1.96996670e-02  2.45026704e-02\n",
      "  2.92576437e-02  3.39650672e-02  3.86254166e-02  4.32391624e-02\n",
      "  4.78067708e-02  5.23287031e-02  5.68054160e-02  6.12373619e-02\n",
      "  6.56249883e-02  6.99687384e-02  7.42690510e-02  7.85263605e-02\n",
      "  8.27410969e-02  8.69136859e-02  9.10445490e-02  9.51341036e-02\n",
      "  9.91827625e-02  1.03190935e-01  1.07159026e-01  1.11087435e-01\n",
      "  1.14976561e-01  1.18826795e-01  1.22638527e-01  1.26412142e-01\n",
      "  1.30148021e-01  1.33846540e-01  1.37508075e-01  1.41132994e-01\n",
      "  1.44721664e-01  1.48274448e-01  1.51791703e-01  1.55273786e-01\n",
      "  1.58721048e-01  1.62133838e-01  1.65512499e-01  1.68857375e-01\n",
      "  1.72168801e-01  1.75447113e-01  1.78692642e-01  1.81905715e-01\n",
      "  1.85086658e-01  1.88235791e-01  1.91353434e-01  1.94439899e-01\n",
      "  1.97495500e-01  2.00520545e-01  2.03515340e-01  2.06480186e-01\n",
      "  2.09415385e-01  2.12321231e-01  2.15198018e-01  2.18046038e-01\n",
      "  2.20865578e-01  2.23656922e-01  2.26420353e-01  2.29156149e-01\n",
      "  2.31864588e-01  2.34545942e-01  2.37200482e-01  2.39828478e-01\n",
      "  2.42430193e-01  2.45005891e-01  2.47555832e-01  2.50080274e-01\n",
      " -2.47420529e-01 -2.39946324e-01 -2.32546860e-01 -2.25221392e-01\n",
      " -2.17969178e-01 -2.10789486e-01 -2.03681591e-01 -1.96644775e-01\n",
      " -1.89678328e-01 -1.82781544e-01 -1.75953729e-01 -1.69194192e-01\n",
      " -1.62502250e-01 -1.55877227e-01 -1.49318455e-01 -1.42825270e-01\n",
      " -1.36397018e-01 -1.30033048e-01 -1.23732717e-01 -1.17495390e-01]\n",
      "[[0.         0.         0.         0.         0.         0.\n",
      "  0.         0.         0.         0.         0.         0.\n",
      "  0.         0.         0.         0.         0.         0.\n",
      "  0.         0.         0.         0.         0.         0.\n",
      "  0.         0.         0.         0.         0.         0.\n",
      "  0.         0.         0.         0.         0.         0.\n",
      "  0.         0.         0.         0.         0.         0.\n",
      "  0.         0.         0.         0.         0.         0.\n",
      "  0.         0.         0.         0.         0.         0.\n",
      "  0.         0.         0.         0.         0.         0.\n",
      "  0.         0.         0.         0.         0.         0.\n",
      "  0.         0.         0.         0.         0.5        0.495\n",
      "  0.49005    0.4851495  0.48029801 0.47549502 0.47074007 0.46603267\n",
      "  0.46137235 0.45675862 0.45219104 0.44766913 0.44319244 0.43876051\n",
      "  0.43437291 0.43002918 0.42572889 0.4214716  0.41725688 0.41308431\n",
      "  0.40895347 0.40486393 0.40081529 0.39680714 0.39283907 0.38891068\n",
      "  0.38502157 0.38117136 0.37735964 0.37358605 0.36985019 0.36615168\n",
      "  0.36249017 0.35886527 0.35527661 0.35172385 0.34820661 0.34472454\n",
      "  0.3412773  0.33786452 0.33448588 0.33114102 0.32782961 0.32455131\n",
      "  0.3213058  0.31809274 0.31491182 0.3117627  0.30864507 0.30555862\n",
      "  0.30250303 0.299478   0.29648322 0.29351839 0.29058321 0.28767737\n",
      "  0.2848006  0.2819526  0.27913307 0.27634174 0.27357832 0.27084254\n",
      "  0.26813411 0.26545277 0.26279824 0.26017026 0.25756856 0.25499287\n",
      "  0.25244294 0.24991851 0.24741933 0.24494514 0.24249569 0.24007073\n",
      "  0.23767002 0.23529332 0.23294039 0.23061098 0.22830487 0.22602183\n",
      "  0.22376161 0.22152399 0.21930875 0.21711566 0.21494451 0.21279506\n",
      "  0.21066711 0.20856044 0.20647484 0.20441009 0.20236599 0.20034233\n",
      "  0.1983389  0.19635551 0.19439196 0.19244804 0.19052356 0.18861832\n",
      "  0.18673214 0.18486482 0.18301617 0.18118601 0.17937415 0.17758041\n",
      "  0.1758046  0.17404656 0.17230609 0.17058303 0.1688772  0.16718843\n",
      "  0.66551654 0.65886138 0.65227276 0.64575004 0.63929254 0.63289961\n",
      "  0.62657062 0.62030491 0.61410186 0.60796084 0.60188123 0.59586242\n",
      "  0.5899038  0.58400476 0.57816471 0.57238306 0.56665923 0.56099264\n",
      "  0.55538271 0.54982889]\n",
      " [0.         0.         0.         0.         0.         0.\n",
      "  0.         0.         0.         0.         0.         0.\n",
      "  0.         0.         0.         0.         0.         0.\n",
      "  0.         0.         0.         0.         0.         0.\n",
      "  0.         0.         0.         0.         0.         0.\n",
      "  0.         0.         0.         0.         0.         0.\n",
      "  0.         0.         0.         0.         0.         0.\n",
      "  0.         0.         0.         0.         0.         0.\n",
      "  0.         0.         0.         0.         0.         0.\n",
      "  0.         0.         0.         0.         0.         0.\n",
      "  0.         0.         0.         0.         0.         0.\n",
      "  0.         0.         0.         0.         0.5        0.495\n",
      "  0.49005    0.4851495  0.48029801 0.47549502 0.47074007 0.46603267\n",
      "  0.46137235 0.45675862 0.45219104 0.44766913 0.44319244 0.43876051\n",
      "  0.43437291 0.43002918 0.42572889 0.4214716  0.41725688 0.41308431\n",
      "  0.40895347 0.40486393 0.40081529 0.39680714 0.39283907 0.38891068\n",
      "  0.38502157 0.38117136 0.37735964 0.37358605 0.36985019 0.36615168\n",
      "  0.36249017 0.35886527 0.35527661 0.35172385 0.34820661 0.34472454\n",
      "  0.3412773  0.33786452 0.33448588 0.33114102 0.32782961 0.32455131\n",
      "  0.3213058  0.31809274 0.31491182 0.3117627  0.30864507 0.30555862\n",
      "  0.30250303 0.299478   0.29648322 0.29351839 0.29058321 0.28767737\n",
      "  0.2848006  0.2819526  0.27913307 0.27634174 0.27357832 0.27084254\n",
      "  0.26813411 0.26545277 0.26279824 0.26017026 0.25756856 0.25499287\n",
      "  0.25244294 0.24991851 0.24741933 0.24494514 0.24249569 0.24007073\n",
      "  0.23767002 0.23529332 0.23294039 0.23061098 0.22830487 0.22602183\n",
      "  0.22376161 0.22152399 0.21930875 0.21711566 0.21494451 0.21279506\n",
      "  0.21066711 0.20856044 0.20647484 0.20441009 0.20236599 0.20034233\n",
      "  0.1983389  0.19635551 0.19439196 0.19244804 0.19052356 0.18861832\n",
      "  0.18673214 0.18486482 0.18301617 0.18118601 0.17937415 0.17758041\n",
      "  0.1758046  0.17404656 0.17230609 0.17058303 0.1688772  0.16718843\n",
      "  0.66551654 0.65886138 0.65227276 0.64575004 0.63929254 0.63289961\n",
      "  0.62657062 0.62030491 0.61410186 0.60796084 0.60188123 0.59586242\n",
      "  0.5899038  0.58400476 0.57816471 0.57238306 0.56665923 0.56099264\n",
      "  0.55538271 0.54982889]]\n"
     ]
    }
   ],
   "source": [
    "print(voltage)\n",
    "print(x_est)"
   ]
  },
  {
   "cell_type": "code",
   "execution_count": 86,
   "metadata": {},
   "outputs": [
    {
     "name": "stdout",
     "output_type": "stream",
     "text": [
      "[]\n"
     ]
    }
   ],
   "source": [
    "print(t_spike)"
   ]
  },
  {
   "cell_type": "code",
   "execution_count": null,
   "metadata": {},
   "outputs": [],
   "source": []
  }
 ],
 "metadata": {
  "kernelspec": {
   "display_name": "Python 3",
   "language": "python",
   "name": "python3"
  },
  "language_info": {
   "codemirror_mode": {
    "name": "ipython",
    "version": 3
   },
   "file_extension": ".py",
   "mimetype": "text/x-python",
   "name": "python",
   "nbconvert_exporter": "python",
   "pygments_lexer": "ipython3",
   "version": "3.6.5"
  }
 },
 "nbformat": 4,
 "nbformat_minor": 2
}
