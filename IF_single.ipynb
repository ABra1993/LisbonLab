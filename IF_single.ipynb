{
 "cells": [
  {
   "cell_type": "markdown",
   "metadata": {},
   "source": [
    "# Integrate-and-Fire (single neuron)"
   ]
  },
  {
   "cell_type": "markdown",
   "metadata": {},
   "source": [
    "Install required packages:"
   ]
  },
  {
   "cell_type": "code",
   "execution_count": 4,
   "metadata": {},
   "outputs": [],
   "source": [
    "import numpy as np\n",
    "import pylab as pl\n",
    "from matplotlib import gridspec"
   ]
  },
  {
   "cell_type": "markdown",
   "metadata": {},
   "source": [
    "Initialize parameters:"
   ]
  },
  {
   "cell_type": "code",
   "execution_count": 5,
   "metadata": {},
   "outputs": [],
   "source": [
    "# timesteps\n",
    "dt = 0.01 \n",
    "iterations = 600\n",
    "x = np.arange(0, iterations) * dt\n",
    "\n",
    "# external input (mA)\n",
    "I = 20\n",
    "I_der = 0\n",
    "c = I + I_der\n",
    "\n",
    "# threshold (mV)\n",
    "T = -63\n",
    "\n",
    "# constants\n",
    "gamma = 8\n",
    "\n",
    "# array containing voltages \n",
    "voltages = np.zeros(iterations)\n",
    "\n",
    "# starting voltage\n",
    "voltages[0] = -80\n",
    "\n",
    "# array containing spike times\n",
    "spikes = np.zeros(iterations)\n",
    "\n",
    "# array containing current\n",
    "I_t = np.ones(iterations) * I\n",
    "\n",
    "# array containing current estimate\n",
    "Ihat_t = np.zeros(iterations)\n",
    "\n",
    "# array containing spike train o(t)\n",
    "o_t = np.zeros(iterations)"
   ]
  },
  {
   "cell_type": "markdown",
   "metadata": {},
   "source": [
    "Run simulation:"
   ]
  },
  {
   "cell_type": "code",
   "execution_count": 6,
   "metadata": {},
   "outputs": [],
   "source": [
    "for i in range(1, iterations):\n",
    "\n",
    "    # update current estimate\n",
    "    dIdt = - Ihat_t[i - 1] + gamma * o_t[i - 1]\n",
    "    Ihat_t[i] = Ihat_t[i - 1] + dt * dIdt\n",
    "    \n",
    "    # update voltage\n",
    "    dVdt = -voltages[i - 1] + gamma * c - gamma**2 * o_t[i - 1]\n",
    "    voltages[i] = voltages[i - 1] + dt * dVdt\n",
    "    \n",
    "    # reset voltage when reaching threshold\n",
    "    if voltages[i] > T:\n",
    "        \n",
    "        # update o(t)\n",
    "        o_t[i] = 1 / dt\n",
    "        \n",
    "        # update voltage and spikes \n",
    "        voltages[i] = voltages[i] - gamma * o_t[i]\n",
    "        spikes[i] = 1"
   ]
  },
  {
   "cell_type": "markdown",
   "metadata": {},
   "source": [
    "Plot results:"
   ]
  },
  {
   "cell_type": "code",
   "execution_count": 7,
   "metadata": {},
   "outputs": [
    {
     "data": {
      "text/plain": [
       "Text(0.5,0,'time')"
      ]
     },
     "execution_count": 7,
     "metadata": {},
     "output_type": "execute_result"
    },
    {
     "data": {
      "image/png": "[encoded data removed]",
      "text/plain": [
       "<Figure size 360x288 with 3 Axes>"
      ]
     },
     "metadata": {},
     "output_type": "display_data"
    }
   ],
   "source": [
    "pl.subplots(3, 1, figsize=(5,4))\n",
    "\n",
    "# plot input and input estimate\n",
    "pl.subplot(3, 1, 1)\n",
    "pl.plot(x, I_t, color='green',label='input')\n",
    "pl.plot(x, Ihat_t, color='lightgreen',label='input estimate')\n",
    "pl.legend()\n",
    "pl.ylabel('current')\n",
    "\n",
    "# plot voltage and spike times\n",
    "pl.subplot(3, 1, 2)\n",
    "pl.plot(x, voltages,label='voltage')\n",
    "pl.ylabel('V')\n",
    "\n",
    "pl.subplot(3, 1, 3)\n",
    "pl.plot(x, spikes,label='spikes',color='orange')\n",
    "pl.xlabel('time')"
   ]
  }
 ],
 "metadata": {
  "kernelspec": {
   "display_name": "Python 3",
   "language": "python",
   "name": "python3"
  },
  "language_info": {
   "codemirror_mode": {
    "name": "ipython",
    "version": 3
   },
   "file_extension": ".py",
   "mimetype": "text/x-python",
   "name": "python",
   "nbconvert_exporter": "python",
   "pygments_lexer": "ipython3",
   "version": "3.6.5"
  }
 },
 "nbformat": 4,
 "nbformat_minor": 2
}
