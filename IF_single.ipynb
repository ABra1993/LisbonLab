{
 "cells": [
  {
   "cell_type": "markdown",
   "metadata": {},
   "source": [
    "# Integrate-and-Fire (single neuron)"
   ]
  },
  {
   "cell_type": "markdown",
   "metadata": {},
   "source": [
    "Install required packages:"
   ]
  },
  {
   "cell_type": "code",
   "execution_count": 341,
   "metadata": {},
   "outputs": [],
   "source": [
    "import numpy as np\n",
    "import pylab as pl"
   ]
  },
  {
   "cell_type": "markdown",
   "metadata": {},
   "source": [
    "Initialize parameters:"
   ]
  },
  {
   "cell_type": "code",
   "execution_count": 342,
   "metadata": {},
   "outputs": [],
   "source": [
    "# timesteps\n",
    "dt = 0.001 \n",
    "iterations = 500\n",
    "x = np.arange(0, iterations) * dt\n",
    "\n",
    "# mebrane resistance\n",
    "R = 1 \n",
    "\n",
    "# membrane time constant\n",
    "tau_m = 0.04\n",
    "\n",
    "# external input (mA)\n",
    "I = 20\n",
    "\n",
    "# starting potential (mV)\n",
    "V0 = 0 \n",
    "\n",
    "# resting potential (mV)\n",
    "V_rest = -70\n",
    "\n",
    "# reset\n",
    "reset = -80\n",
    "\n",
    "# threshold\n",
    "T = -63\n",
    "\n",
    "# constants\n",
    "delta = 0.1\n",
    "gamma = 1\n",
    "\n",
    "# array containing voltages \n",
    "voltages = np.zeros(iterations)\n",
    "\n",
    "# array containing spike times\n",
    "spikeTime = np.ones(iterations) * -100\n",
    "\n",
    "# array containing current\n",
    "ITime = np.ones(iterations) * I\n",
    "\n",
    "# array containing current estimate\n",
    "IhatTime = np.zeros(iterations)"
   ]
  },
  {
   "cell_type": "markdown",
   "metadata": {},
   "source": [
    "Function for computing $o(t) = \\Sigma_{i} \\delta(t - t_{i})$:"
   ]
  },
  {
   "cell_type": "code",
   "execution_count": 343,
   "metadata": {},
   "outputs": [],
   "source": [
    "def deltafunction(t):\n",
    "    \n",
    "    sum = 0\n",
    "    \n",
    "    # iterate over time\n",
    "    for t_i in range(t):\n",
    "        \n",
    "        # compute for every spike (when there is no spike: spikeTime[i] = -100)\n",
    "        if spikeTime[t_i] != -100:\n",
    "            \n",
    "            O_sub = delta * (t - dt - t_i)\n",
    "            \n",
    "            sum += O_sub\n",
    "            \n",
    "    return sum"
   ]
  },
  {
   "cell_type": "markdown",
   "metadata": {},
   "source": [
    "Run simulation:"
   ]
  },
  {
   "cell_type": "markdown",
   "metadata": {},
   "source": [
    "Euler method for current estimate $\\hat{I}$:\n",
    "<br>\n",
    "$\\hat{I}(t_{n}) = \\hat{I}(t_{n - 1}) + \\Delta t \\frac{d\\hat{I}}{dt} (t_{n -1})$\n",
    "<br>\n",
    "$\\frac{d\\hat{I}}{dt}(t_{n -1}) = - \\hat{I}(t_{n - 1}) + \\Gamma o(t_{n - 1})$"
   ]
  },
  {
   "cell_type": "code",
   "execution_count": 344,
   "metadata": {},
   "outputs": [],
   "source": [
    "for i in range(1, iterations):\n",
    "    \n",
    "    # update o(t)\n",
    "    spikeTrain = deltafunction(i)\n",
    "    \n",
    "    # update current estimate\n",
    "    dIdt = - IhatTime[i - 1] + gamma * spikeTrain\n",
    "    IhatTime[i] = IhatTime[i - 1] + dt * dIdt\n",
    "    \n",
    "    # update voltage\n",
    "    dVdt = (-(voltages[i - 1] - V_rest) + R * I) / tau_m\n",
    "    voltages[i] = voltages[i - 1] + dt * dVdt\n",
    "    \n",
    "    # reset voltage when reaching threshold\n",
    "    if voltages[i] > T:\n",
    "        \n",
    "        # update voltage \n",
    "        voltages[i] = reset\n",
    "        spikeTime[i] = -90\n"
   ]
  },
  {
   "cell_type": "markdown",
   "metadata": {},
   "source": [
    "Plot results:"
   ]
  },
  {
   "cell_type": "code",
   "execution_count": 345,
   "metadata": {},
   "outputs": [
    {
     "data": {
      "text/plain": [
       "Text(0,0.5,'current (in mA)')"
      ]
     },
     "execution_count": 345,
     "metadata": {},
     "output_type": "execute_result"
    },
    {
     "data": {
      "image/png": "[encoded data removed]",
      "text/plain": [
       "<Figure size 432x288 with 2 Axes>"
      ]
     },
     "metadata": {},
     "output_type": "display_data"
    }
   ],
   "source": [
    "# plot voltage and spike times\n",
    "pl.subplot(2, 1, 1)\n",
    "pl.plot(x, voltages,label='voltage')\n",
    "pl.plot(x, spikeTime,label='spikes')\n",
    "pl.legend()\n",
    "pl.ylabel('V (in mV)')\n",
    "\n",
    "# plot input and input estimate\n",
    "pl.subplot(2, 1, 2)\n",
    "pl.plot(x, ITime, color='green',label='input')\n",
    "pl.plot(x, IhatTime, color='lightgreen',label='input estimate')\n",
    "pl.legend()\n",
    "pl.xlabel('time')\n",
    "pl.ylabel('current (in mA)')"
   ]
  }
 ],
 "metadata": {
  "kernelspec": {
   "display_name": "Python 3",
   "language": "python",
   "name": "python3"
  },
  "language_info": {
   "codemirror_mode": {
    "name": "ipython",
    "version": 3
   },
   "file_extension": ".py",
   "mimetype": "text/x-python",
   "name": "python",
   "nbconvert_exporter": "python",
   "pygments_lexer": "ipython3",
   "version": "3.6.5"
  }
 },
 "nbformat": 4,
 "nbformat_minor": 2
}
