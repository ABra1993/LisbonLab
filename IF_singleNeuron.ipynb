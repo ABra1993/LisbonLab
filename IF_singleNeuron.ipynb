{
 "cells": [
  {
   "cell_type": "markdown",
   "metadata": {},
   "source": [
    "# Integrate-and-Fire (single neuron)"
   ]
  },
  {
   "cell_type": "markdown",
   "metadata": {},
   "source": [
    "Euler method for current estimate $\\hat{x}$:\n",
    "<br>\n",
    "$\\hat{x}(t_{n}) = \\hat{x}(t_{n - 1}) + \\Delta t \\frac{d\\hat{x}}{dt} (t_{n -1})$\n",
    "<br>\n",
    "$\\frac{d\\hat{x}}{dt}(t_{n -1}) = - \\hat{x}(t_{n - 1}) + \\Gamma o(t_{n - 1})$"
   ]
  },
  {
   "cell_type": "markdown",
   "metadata": {},
   "source": [
    "Install required packages:"
   ]
  },
  {
   "cell_type": "code",
   "execution_count": null,
   "metadata": {},
   "outputs": [],
   "source": [
    "import numpy as np\n",
    "import pylab as pl"
   ]
  },
  {
   "cell_type": "markdown",
   "metadata": {},
   "source": [
    "Initialize parameters:"
   ]
  },
  {
   "cell_type": "code",
   "execution_count": 288,
   "metadata": {},
   "outputs": [],
   "source": [
    "# timesteps\n",
    "dt = 0.001 \n",
    "iterations = 500\n",
    "x = np.arange(0, iterations) * dt\n",
    "\n",
    "# mebrane resistance\n",
    "R = 1 \n",
    "\n",
    "# membrane time constant\n",
    "tau_m = 0.04\n",
    "\n",
    "# external input (mA)\n",
    "I = 20\n",
    "\n",
    "# starting potential (mV)\n",
    "V0 = 0 \n",
    "\n",
    "# resting potential (mV)\n",
    "V_rest = -70\n",
    "\n",
    "# reset\n",
    "reset = -80\n",
    "\n",
    "# threshold\n",
    "T = -63\n",
    "\n",
    "# constants\n",
    "delta = 0.1\n",
    "gamma = 1\n",
    "\n",
    "# array containing voltages \n",
    "voltages = np.zeros(iterations)\n",
    "\n",
    "# array containing spike times\n",
    "spikeTime = np.ones(iterations) * -100\n",
    "\n",
    "# array containing current\n",
    "currentTime = np.ones(iterations) * I\n",
    "\n",
    "# array containing current estimate\n",
    "xhatTime = np.zeros(iterations)\n",
    "\n",
    "# array containing spike times\n",
    "spikeTrain = np.zeros(iterations)"
   ]
  },
  {
   "cell_type": "markdown",
   "metadata": {},
   "source": [
    "Function for computing $o(t) = \\Sigma_{i} \\delta(t - t_{i})$:"
   ]
  },
  {
   "cell_type": "code",
   "execution_count": 289,
   "metadata": {},
   "outputs": [],
   "source": [
    "def deltafunction(iteration):\n",
    "    \n",
    "    sum = 0\n",
    "    \n",
    "    for i in range(iteration):\n",
    "        \n",
    "        if spikeTime[i] != -100:\n",
    "            \n",
    "            O_sub = delta * (iteration - dt - i)\n",
    "            \n",
    "            sum += O_sub\n",
    "            \n",
    "    return sum"
   ]
  },
  {
   "cell_type": "markdown",
   "metadata": {},
   "source": [
    "Run simulation:"
   ]
  },
  {
   "cell_type": "code",
   "execution_count": 290,
   "metadata": {},
   "outputs": [],
   "source": [
    "for i in range(1, iterations):\n",
    "    \n",
    "    # update o(t)\n",
    "    spikeTrain_cur = deltafunction(i)\n",
    "    spikeTrain[i] = spikeTrain_cur\n",
    "    \n",
    "    # update current estimate\n",
    "    dIdt = - xhatTime[i - 1] + gamma * spikeTrain[i]\n",
    "    xhatTime[i] = xhatTime[i - 1] + dt * dIdt\n",
    "    \n",
    "    # update voltage\n",
    "    dVdt = (-(voltages[i - 1] - V_rest) + R * I) / tau_m\n",
    "    voltages[i] = voltages[i - 1] + dt * dVdt\n",
    "\n",
    "    if voltages[i] > T:\n",
    "        \n",
    "        # update voltage \n",
    "        voltages[i] = reset\n",
    "        spikeTime[i] = -90\n"
   ]
  },
  {
   "cell_type": "markdown",
   "metadata": {},
   "source": [
    "Plot results:"
   ]
  },
  {
   "cell_type": "code",
   "execution_count": 291,
   "metadata": {},
   "outputs": [
    {
     "data": {
      "text/plain": [
       "Text(0,0.5,'current (in mA)')"
      ]
     },
     "execution_count": 291,
     "metadata": {},
     "output_type": "execute_result"
    },
    {
     "data": {
      "image/png": "[encoded data removed]",
      "text/plain": [
       "<Figure size 432x288 with 2 Axes>"
      ]
     },
     "metadata": {},
     "output_type": "display_data"
    }
   ],
   "source": [
    "# plot voltage and spike times\n",
    "pl.subplot(2, 1, 1)\n",
    "pl.plot(x, voltages,label='voltage')\n",
    "pl.plot(x, spikeTime,label='spikes')\n",
    "pl.legend()\n",
    "pl.ylabel('V (in mV)')\n",
    "\n",
    "# plot input and input estimate\n",
    "pl.subplot(2, 1, 2)\n",
    "pl.plot(x, currentTime, color='green',label='input')\n",
    "pl.plot(x, xhatTime, color='lightgreen',label='input estimate')\n",
    "pl.legend()\n",
    "pl.xlabel('time')\n",
    "pl.ylabel('current (in mA)')"
   ]
  }
 ],
 "metadata": {
  "kernelspec": {
   "display_name": "Python 3",
   "language": "python",
   "name": "python3"
  },
  "language_info": {
   "codemirror_mode": {
    "name": "ipython",
    "version": 3
   },
   "file_extension": ".py",
   "mimetype": "text/x-python",
   "name": "python",
   "nbconvert_exporter": "python",
   "pygments_lexer": "ipython3",
   "version": "3.6.5"
  }
 },
 "nbformat": 4,
 "nbformat_minor": 2
}
