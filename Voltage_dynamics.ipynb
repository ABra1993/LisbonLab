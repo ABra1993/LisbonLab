{
 "cells": [
  {
   "cell_type": "code",
   "execution_count": 159,
   "metadata": {},
   "outputs": [],
   "source": [
    "import numpy as np\n",
    "import pylab as pl\n",
    "from scipy.signal import sweep_poly\n",
    "from scipy.ndimage.filters import gaussian_filter1d\n",
    "import math"
   ]
  },
  {
   "cell_type": "markdown",
   "metadata": {},
   "source": [
    "# Single-neuron"
   ]
  },
  {
   "cell_type": "markdown",
   "metadata": {},
   "source": [
    "Initialize parameters"
   ]
  },
  {
   "cell_type": "code",
   "execution_count": 12,
   "metadata": {},
   "outputs": [],
   "source": [
    "def initialize_params_single(dt, iterations, gamma):\n",
    "    \n",
    "    # timesteps\n",
    "    t = np.arange(0, iterations) * dt\n",
    "\n",
    "    # input estimate\n",
    "    x_est = np.zeros(iterations)\n",
    "\n",
    "    # spike train\n",
    "    o = np.zeros(iterations)\n",
    "\n",
    "    # voltage\n",
    "    voltage = np.zeros(iterations)\n",
    "\n",
    "    # threshold\n",
    "    T = (gamma**2) / 2\n",
    "\n",
    "    # spike times\n",
    "    spike = []\n",
    "    t_spike = []\n",
    "    \n",
    "    return (t, x_est, o, voltage, T, spike, t_spike) "
   ]
  },
  {
   "cell_type": "markdown",
   "metadata": {},
   "source": [
    "Create time varying signal"
   ]
  },
  {
   "cell_type": "code",
   "execution_count": 22,
   "metadata": {},
   "outputs": [],
   "source": [
    "def TVS_single():\n",
    "    \n",
    "    # create time-varying signal\n",
    "    x = 1\n",
    "    x_t = np.ones(iterations) * x\n",
    "\n",
    "    step = 100\n",
    "    x_t[0:step] = 0\n",
    "    x_t[iterations - 2 * step:iterations] = 0\n",
    "\n",
    "    x = gaussian_filter1d(x_t, sigma=20) # smooth signal\n",
    "\n",
    "    dxdt = np.diff(x)/dt\n",
    "    c = x[:-1] + dxdt\n",
    "    \n",
    "    return x, c"
   ]
  },
  {
   "cell_type": "markdown",
   "metadata": {},
   "source": [
    "Run simulation"
   ]
  },
  {
   "cell_type": "code",
   "execution_count": 14,
   "metadata": {},
   "outputs": [],
   "source": [
    "def run_single():\n",
    "    for t in range(1, iterations):\n",
    "\n",
    "        # udpate input estimate\n",
    "        dxestdt = -x_est[t - 1] + gamma * o[t - 1]\n",
    "        x_est[t] = x_est[t - 1] + dt * dxestdt \n",
    "\n",
    "        # update voltage\n",
    "        dVdt = -voltage[t - 1] + gamma * c[t - 1] - o[t - 1] * (gamma ** 2)\n",
    "        voltage[t] = voltage[t - 1] + dt * dVdt\n",
    "\n",
    "        # spike when voltage exceeds threshold\n",
    "        if voltage[t] > T:\n",
    "            o[t] = 1/dt\n",
    "\n",
    "            # save spike times\n",
    "            spike.append(1)\n",
    "            t_spike.append(t)\n",
    "            \n",
    "    return x_est, voltage"
   ]
  },
  {
   "cell_type": "markdown",
   "metadata": {},
   "source": [
    "Plot results (input + input estimate, voltage, spikes)"
   ]
  },
  {
   "cell_type": "code",
   "execution_count": 15,
   "metadata": {},
   "outputs": [],
   "source": [
    "def plot_single():\n",
    "    plots = 3\n",
    "    pl.subplots(plots, 1, figsize=(12, 4))\n",
    "\n",
    "    # enable LaTeX\n",
    "    pl.rc('text', usetex=True)\n",
    "\n",
    "    pl.subplot(plots, 1, 1)\n",
    "    pl.plot(x, label=r'$x$', color='black')\n",
    "    pl.plot(x_est, label=r'$\\hat{x}$', color='gray')\n",
    "    pl.xlim(0, iterations)\n",
    "    pl.yticks([])\n",
    "    pl.xticks([])\n",
    "    pl.legend()\n",
    "\n",
    "    pl.subplot(plots, 1, 2)\n",
    "    pl.plot(voltage, 'k')\n",
    "    pl.xlim(0, iterations)\n",
    "    pl.ylabel('Voltage')\n",
    "\n",
    "    pl.subplot(plots, 1, 3)\n",
    "    pl.scatter(t_spike, spike, c='k')\n",
    "    pl.xlim(0, iterations)\n",
    "    pl.yticks([])\n",
    "    pl.xlabel('time')"
   ]
  },
  {
   "cell_type": "markdown",
   "metadata": {},
   "source": [
    "Runs de simulation"
   ]
  },
  {
   "cell_type": "code",
   "execution_count": 16,
   "metadata": {},
   "outputs": [],
   "source": [
    "def conductance_sim():\n",
    "    dt = 0.01\n",
    "    iterations = 800\n",
    "    gamma = 1\n",
    "\n",
    "    t, x_est, o, voltage, T, spike, t_spike = initialize_params_single(dt, iterations, gamma)\n",
    "    x,c = TVS_single()\n",
    "    x_est, voltage = run_single()\n",
    "    \n",
    "    return x, c, x_est, iterations"
   ]
  },
  {
   "cell_type": "markdown",
   "metadata": {},
   "source": [
    "# 1. Homogeneous differential equation"
   ]
  },
  {
   "cell_type": "markdown",
   "metadata": {},
   "source": [
    "### Compute voltage"
   ]
  },
  {
   "cell_type": "markdown",
   "metadata": {},
   "source": [
    "$V = \\frac{A e^{-(g_{L} + g_{s})t} + g_{L} E_{L} + g_{s} E_{s}}{(g_{L} + g_{s})}$"
   ]
  },
  {
   "cell_type": "code",
   "execution_count": 31,
   "metadata": {},
   "outputs": [],
   "source": [
    "def compute_voltage_I(tp):\n",
    "    V = (A * np.exp(-(gL + gs) * tp) + gL * EL + gs * Es) / (gL + gs)\n",
    "    return V"
   ]
  },
  {
   "cell_type": "markdown",
   "metadata": {},
   "source": [
    "### Compute voltage using Euler method"
   ]
  },
  {
   "cell_type": "markdown",
   "metadata": {},
   "source": [
    "$\\frac{dV}{dt} = g_{L}(E_{L} - V) + g_{s} (E_{s} - V)$"
   ]
  },
  {
   "cell_type": "code",
   "execution_count": 32,
   "metadata": {},
   "outputs": [],
   "source": [
    "def compute_voltage_der_I(V):\n",
    "    dV = gL * (EL - V) + gs * (Es - V)\n",
    "    return dV"
   ]
  },
  {
   "cell_type": "code",
   "execution_count": 33,
   "metadata": {},
   "outputs": [],
   "source": [
    "def euler_method_I(initial_value):\n",
    "    \n",
    "    voltage_euler = np.ones(iterations) * initial_value\n",
    "    \n",
    "    for t in range(1, iterations):\n",
    "        dVdt = compute_voltage_der_I(voltage_euler[t - 1])\n",
    "        voltage_euler[t] = voltage_euler[t - 1] + dt * dVdt\n",
    "        \n",
    "    return voltage_euler"
   ]
  },
  {
   "cell_type": "markdown",
   "metadata": {},
   "source": [
    "### Plot results"
   ]
  },
  {
   "cell_type": "code",
   "execution_count": 34,
   "metadata": {},
   "outputs": [],
   "source": [
    "def plot_I():\n",
    "\n",
    "    pl.plot(voltage_I, label='voltage')\n",
    "    pl.plot(voltage_der_I, label='derivative voltage')\n",
    "    pl.plot(voltage_euler_I, label='voltage (Euler)')\n",
    "    pl.ylabel('Voltage')\n",
    "    pl.xlabel('time')\n",
    "    pl.legend()"
   ]
  },
  {
   "cell_type": "markdown",
   "metadata": {},
   "source": [
    "### Phase portrait"
   ]
  },
  {
   "cell_type": "code",
   "execution_count": 35,
   "metadata": {
    "scrolled": true
   },
   "outputs": [],
   "source": [
    "def phase_portrait_I():\n",
    "    y1 = np.linspace(start, iterations, 10)\n",
    "    y2 = np.linspace(start, iterations, 10)\n",
    "\n",
    "    Y1, Y2 = np.meshgrid(y1, y2)\n",
    "    t = 0\n",
    "    u, v = np.zeros(Y1.shape), np.zeros(Y2.shape)\n",
    "\n",
    "    NI, NJ = Y1.shape\n",
    "\n",
    "    for i in range(NI):\n",
    "        for j in range(NJ):\n",
    "            x = Y1[i, j]\n",
    "            y = Y2[i, j]\n",
    "            u[i,j] = y1[i]\n",
    "            v[i,j] = compute_voltage_der_I(y2[i])\n",
    "\n",
    "\n",
    "    pl.quiver(Y1, Y2, u, v, color='k')\n",
    "    pl.xlabel('time')\n",
    "    pl.ylabel('voltage')"
   ]
  },
  {
   "cell_type": "markdown",
   "metadata": {},
   "source": [
    "### Run simulation"
   ]
  },
  {
   "cell_type": "code",
   "execution_count": 37,
   "metadata": {},
   "outputs": [
    {
     "data": {
      "image/png": "[encoded data removed]",
      "text/plain": [
       "<Figure size 432x288 with 1 Axes>"
      ]
     },
     "metadata": {},
     "output_type": "display_data"
    }
   ],
   "source": [
    "# initialize\n",
    "gL = 1\n",
    "gs = 2\n",
    "EL = 3\n",
    "Es = 4\n",
    "A = 10\n",
    "\n",
    "start = 0\n",
    "iterations = 20\n",
    "dt = 0.05\n",
    "time = np.arange(start, iterations) * dt\n",
    "\n",
    "# compute initial value voltage\n",
    "initial_value = ((A + (gL * EL + gs * Es)) / (gL + gs))\n",
    "\n",
    "# compute voltage\n",
    "voltage_I = [compute_voltage_I(tp) for tp in time]    # offline\n",
    "voltage_euler_I = euler_method_I(initial_value)       # online\n",
    "\n",
    "# compute voltage derivative\n",
    "voltage_der_I = [compute_voltage_der_I(V) for V in voltage_I]\n",
    "\n",
    "# plot results\n",
    "plot_I()"
   ]
  },
  {
   "cell_type": "code",
   "execution_count": 483,
   "metadata": {},
   "outputs": [],
   "source": [
    "# phase_portrait_I()"
   ]
  },
  {
   "cell_type": "markdown",
   "metadata": {},
   "source": [
    "# 2. Inhomogeneous differential equation I"
   ]
  },
  {
   "cell_type": "markdown",
   "metadata": {},
   "source": [
    "### Compute voltage"
   ]
  },
  {
   "cell_type": "code",
   "execution_count": 480,
   "metadata": {},
   "outputs": [],
   "source": [
    "def functionI(input):\n",
    "    output = np.exp((-gL - gs) * (input)) * dt\n",
    "    return output\n",
    "\n",
    "def functionII():        \n",
    "    output = np.zeros(iterations - 1)      \n",
    "    for t in range(iterations - 1):\n",
    "        output[t] = D * c[t] + gL * EL + gs * Es\n",
    "    return output\n",
    "\n",
    "def compute_voltage_II():\n",
    "    \n",
    "    # convolution\n",
    "    g = [functionI(tp) for tp in time]\n",
    "    f = functionII()\n",
    "    V = np.convolve(g, f)\n",
    "    \n",
    "    val = [C * np.exp((-gs - gL) * tp) for tp in time]\n",
    "    V = V[0:iterations] #+ val\n",
    "\n",
    "    return V"
   ]
  },
  {
   "cell_type": "code",
   "execution_count": 449,
   "metadata": {},
   "outputs": [],
   "source": [
    "def run_voltage_II():\n",
    "    \n",
    "    voltage = 0\n",
    "    \n",
    "    for t in range(iterations):\n",
    "        voltage = compute_voltage_II()\n",
    "        \n",
    "    return voltage"
   ]
  },
  {
   "cell_type": "markdown",
   "metadata": {},
   "source": [
    "### Compute voltage using Euler method"
   ]
  },
  {
   "cell_type": "code",
   "execution_count": 461,
   "metadata": {},
   "outputs": [],
   "source": [
    "def compute_voltage_der_II(V, c):\n",
    "    dV = (- gL - gs) * V + gs * Es + gL * EL + D * c\n",
    "    return dV"
   ]
  },
  {
   "cell_type": "code",
   "execution_count": 458,
   "metadata": {},
   "outputs": [],
   "source": [
    "def euler_method_II(initial_value):\n",
    "\n",
    "    voltage_euler = np.ones(iterations) * initial_value\n",
    "    \n",
    "    for t in range(1, iterations):\n",
    "        dVdt = compute_voltage_der_II(voltage_euler[t - 1], c[t - 1])\n",
    "        voltage_euler[t] = voltage_euler[t - 1] + dt * dVdt\n",
    "        \n",
    "    return voltage_euler"
   ]
  },
  {
   "cell_type": "markdown",
   "metadata": {},
   "source": [
    "### Plot results"
   ]
  },
  {
   "cell_type": "code",
   "execution_count": 486,
   "metadata": {},
   "outputs": [],
   "source": [
    "def plot_II():\n",
    "    pl.plot(voltage_II[0:iterations], label='voltage')\n",
    "    pl.plot(voltage_euler_II, label='voltage (Euler)')\n",
    "    # pl.plot(voltage_der_II, label='derivative voltage')\n",
    "    pl.legend()"
   ]
  },
  {
   "cell_type": "markdown",
   "metadata": {},
   "source": [
    "### Run simulation"
   ]
  },
  {
   "cell_type": "code",
   "execution_count": 490,
   "metadata": {},
   "outputs": [
    {
     "data": {
      "image/png": "[encoded data removed]",
      "text/plain": [
       "<Figure size 432x288 with 1 Axes>"
      ]
     },
     "metadata": {},
     "output_type": "display_data"
    }
   ],
   "source": [
    "# initialize parameters\n",
    "gL = 2\n",
    "gs = 1\n",
    "EL = 0.3\n",
    "Es = 0.2\n",
    "D = 1\n",
    "C = 1\n",
    "\n",
    "# initialize time component\n",
    "start = 0\n",
    "iterations = 500\n",
    "dt = 0.01\n",
    "time = np.arange(start, iterations) * dt\n",
    "\n",
    "x, c = TVS_single()\n",
    "\n",
    "# compute initial value voltage\n",
    "# initial_value = (gL * EL + gs * Es + D * c[0]) / (gL + gs)\n",
    "initial_value = 0\n",
    "\n",
    "# compute voltage\n",
    "voltage_II = run_voltage_II()\n",
    "voltage_euler_II = euler_method_II(initial_value)\n",
    "\n",
    "# compute voltage derivative\n",
    "voltage_der_II = [compute_voltage_der_II(V, c) for V in voltage_II]\n",
    "\n",
    "# plot results\n",
    "plot_II()"
   ]
  },
  {
   "cell_type": "markdown",
   "metadata": {},
   "source": [
    "### Phase portrait"
   ]
  },
  {
   "cell_type": "code",
   "execution_count": 115,
   "metadata": {},
   "outputs": [],
   "source": [
    "def phase_portrait_II():\n",
    "    y1 = np.linspace(start, iterations, 10)\n",
    "    y2 = np.linspace(start, iterations, 10)\n",
    "\n",
    "    Y1, Y2 = np.meshgrid(y1, y2)\n",
    "\n",
    "    t = 0\n",
    "\n",
    "    u, v = np.zeros(Y1.shape), np.zeros(Y2.shape)\n",
    "\n",
    "    NI, NJ = Y1.shape\n",
    "\n",
    "    for i in range(NI):\n",
    "        for j in range(NJ):\n",
    "            x = Y1[i, j]\n",
    "            y = Y2[i, j]\n",
    "            u[i,j] = y1[i]\n",
    "            v[i,j] = compute_voltage_der_II(y2[i], c[i])\n",
    "\n",
    "\n",
    "    pl.quiver(Y1, Y2, u, v, color='k')\n",
    "    pl.xlabel('time')\n",
    "    pl.ylabel('voltage')"
   ]
  },
  {
   "cell_type": "code",
   "execution_count": 131,
   "metadata": {},
   "outputs": [],
   "source": [
    "#phase_portrait_II()"
   ]
  },
  {
   "cell_type": "markdown",
   "metadata": {},
   "source": [
    "# 3. Inhomogeneous differential equation II"
   ]
  },
  {
   "cell_type": "markdown",
   "metadata": {},
   "source": [
    "# 4. Derive voltage"
   ]
  },
  {
   "cell_type": "markdown",
   "metadata": {},
   "source": [
    "### Compute voltage"
   ]
  },
  {
   "cell_type": "code",
   "execution_count": 144,
   "metadata": {},
   "outputs": [],
   "source": [
    "def compute_voltage_IV(D, x, xest):\n",
    "    V = D * (x - xest) / D * (x + xest)\n",
    "    return V"
   ]
  },
  {
   "cell_type": "code",
   "execution_count": 145,
   "metadata": {},
   "outputs": [],
   "source": [
    "def run_voltage_IV():\n",
    "    \n",
    "    voltage = np.ones(iterations)\n",
    "    \n",
    "    for t in range(iterations):\n",
    "        voltage[t] = compute_voltage_IV(D, x[t], x_est[t])\n",
    "        \n",
    "    return voltage"
   ]
  },
  {
   "cell_type": "markdown",
   "metadata": {},
   "source": [
    "### Compute voltage using Euler method"
   ]
  },
  {
   "cell_type": "code",
   "execution_count": 146,
   "metadata": {},
   "outputs": [],
   "source": [
    "def der_x_xest(x, x_est):\n",
    "    \n",
    "    dxdt = np.diff(x)/dt\n",
    "    dxestdt = np.diff(x_est)/dt\n",
    "    \n",
    "    return dxdt, dxestdt"
   ]
  },
  {
   "cell_type": "code",
   "execution_count": 223,
   "metadata": {},
   "outputs": [],
   "source": [
    "def compute_voltage_der_IV(x, xest, dxdt, dxestdt):\n",
    "    \n",
    "    g = (x + xest) * (x + xest) \n",
    "    dV = 2 * (   dxdt * (xest/g) - dxestdt * (x/g)   )\n",
    "    return dV"
   ]
  },
  {
   "cell_type": "code",
   "execution_count": 227,
   "metadata": {},
   "outputs": [],
   "source": [
    "def euler_method_IV(initial_value):\n",
    "\n",
    "    voltage_euler = np.ones(iterations) * initial_value\n",
    "    \n",
    "    for t in range(1, iterations):\n",
    "        dVdt = compute_voltage_der_IV(x[t - 1], x_est[t - 1], dxdt[t - 1], dxestdt[t - 1])\n",
    "        voltage_euler[t] = voltage_euler[t - 1] + dt * dVdt\n",
    "        \n",
    "    return voltage_euler"
   ]
  },
  {
   "cell_type": "markdown",
   "metadata": {},
   "source": [
    "### Plot results"
   ]
  },
  {
   "cell_type": "code",
   "execution_count": 229,
   "metadata": {},
   "outputs": [],
   "source": [
    "def plot_IV():\n",
    "    \n",
    "    pl.plot(voltage_IV, label='voltage')\n",
    "    pl.plot(voltage_euler_IV, label='voltage (Euler)')\n",
    "    pl.legend()"
   ]
  },
  {
   "cell_type": "markdown",
   "metadata": {},
   "source": [
    "### Run simulation"
   ]
  },
  {
   "cell_type": "code",
   "execution_count": 230,
   "metadata": {},
   "outputs": [
    {
     "name": "stderr",
     "output_type": "stream",
     "text": [
      "C:\\Users\\amber\\Anaconda3\\lib\\site-packages\\ipykernel_launcher.py:4: RuntimeWarning: invalid value encountered in double_scalars\n",
      "  after removing the cwd from sys.path.\n"
     ]
    },
    {
     "data": {
      "image/png": "[encoded data removed]",
      "text/plain": [
       "<Figure size 432x288 with 1 Axes>"
      ]
     },
     "metadata": {},
     "output_type": "display_data"
    }
   ],
   "source": [
    "# initialize parameters\n",
    "D = 1\n",
    "x, x_est, iterations = conductance_sim()\n",
    "dxdt, dxestdt = der_x_xest(x, x_est)\n",
    "\n",
    "# compute initial value voltage\n",
    "initial_value = 1\n",
    "\n",
    "# compute voltage\n",
    "voltage_IV = run_voltage_IV()\n",
    "voltage_euler_IV = euler_method_IV(initial_value)\n",
    "\n",
    "# plot results\n",
    "plot_IV()\n",
    "\n",
    "# print(voltage[0])\n",
    "# print(voltage_euler[0])"
   ]
  },
  {
   "cell_type": "markdown",
   "metadata": {},
   "source": [
    "### Phase portrait"
   ]
  },
  {
   "cell_type": "markdown",
   "metadata": {},
   "source": [
    "# Voltage dynamics (exercises Dynamical Systems in Neuroscience)"
   ]
  },
  {
   "cell_type": "code",
   "execution_count": 270,
   "metadata": {},
   "outputs": [
    {
     "data": {
      "text/plain": [
       "[<matplotlib.lines.Line2D at 0x223ba87f7f0>]"
      ]
     },
     "execution_count": 270,
     "metadata": {},
     "output_type": "execute_result"
    },
    {
     "data": {
      "image/png": "[encoded data removed]",
      "text/plain": [
       "<Figure size 432x288 with 1 Axes>"
      ]
     },
     "metadata": {},
     "output_type": "display_data"
    }
   ],
   "source": [
    "voltage = np.arange(-2, 2, 0.05)\n",
    "\n",
    "def derivative(V):\n",
    "    V = V - V**3\n",
    "    return V\n",
    "\n",
    "dV = [derivative(V) for V in voltage]\n",
    "\n",
    "pl.plot(voltage, dV)"
   ]
  },
  {
   "cell_type": "code",
   "execution_count": 498,
   "metadata": {},
   "outputs": [
    {
     "data": {
      "text/plain": [
       "[<matplotlib.lines.Line2D at 0x20428371ba8>]"
      ]
     },
     "execution_count": 498,
     "metadata": {},
     "output_type": "execute_result"
    },
    {
     "data": {
      "image/png": "[encoded data removed]",
      "text/plain": [
       "<Figure size 432x288 with 1 Axes>"
      ]
     },
     "metadata": {},
     "output_type": "display_data"
    }
   ],
   "source": [
    "def derivative(I, V):\n",
    "    V = I + V**2\n",
    "    return V\n",
    "\n",
    "I = np.arange(-2, 2)\n",
    "voltage = np.arange(-2, 2, 0.05)\n",
    "\n",
    "for i in range(len(I)):\n",
    "    dV = [derivative(I[i], V) for V in voltage]\n",
    "    pl.plot(voltage, dV)\n",
    "    \n",
    "pl.plot(voltage, np.zeros(len(voltage)), 'gray')"
   ]
  },
  {
   "cell_type": "code",
   "execution_count": 497,
   "metadata": {},
   "outputs": [
    {
     "data": {
      "text/plain": [
       "[<matplotlib.lines.Line2D at 0x2042afd4dd8>]"
      ]
     },
     "execution_count": 497,
     "metadata": {},
     "output_type": "execute_result"
    },
    {
     "data": {
      "image/png": "[encoded data removed]",
      "text/plain": [
       "<Figure size 432x288 with 1 Axes>"
      ]
     },
     "metadata": {},
     "output_type": "display_data"
    }
   ],
   "source": [
    "x = np.linspace(0.1, 5, 1000)\n",
    "\n",
    "y = [1/(t) for t in x]\n",
    "\n",
    "pl.plot(x, y)"
   ]
  },
  {
   "cell_type": "code",
   "execution_count": null,
   "metadata": {},
   "outputs": [],
   "source": []
  },
  {
   "cell_type": "code",
   "execution_count": null,
   "metadata": {},
   "outputs": [],
   "source": []
  },
  {
   "cell_type": "code",
   "execution_count": null,
   "metadata": {},
   "outputs": [],
   "source": [
    "#         # initialize D\n",
    "#         D = np.zeros((N, d))\n",
    "        \n",
    "#         if N == 3:\n",
    "            \n",
    "#             D[0][0] = 0\n",
    "#             D[0][1] = 1\n",
    "#             D[0][2] = 0.5\n",
    "\n",
    "#             D[1][0] = 0.86\n",
    "#             D[1][1] = -0.5\n",
    "#             D[1][2] = -0.5\n",
    "\n",
    "#             D[2][0] = -0.86\n",
    "#             D[2][1] = -0.5\n",
    "#             D[2][2] = -0.5\n",
    "        \n",
    "#         elif N == 4:\n",
    "            \n",
    "#             D[0][0] = 0\n",
    "#             D[0][1] = 1\n",
    "#             D[0][2] = -0.6\n",
    "\n",
    "#             D[1][0] = 0.86\n",
    "#             D[1][1] = -0.5\n",
    "#             D[1][2] = -0.5\n",
    "\n",
    "#             D[2][0] = -0.86\n",
    "#             D[2][1] = -0.5\n",
    "#             D[2][2] = -0.5\n",
    "\n",
    "#             D[3][0] = 0\n",
    "#             D[3][1] = 0\n",
    "#             D[3][2] = 1\n",
    "            \n",
    "        \n",
    "#         elif N == 5:\n",
    "            \n",
    "#             D[0][0] = 0\n",
    "#             D[0][1] = 1\n",
    "#             D[0][2] = 0\n",
    "\n",
    "#             D[1][0] = 0.86\n",
    "#             D[1][1] = -0.5\n",
    "#             D[1][2] = 0\n",
    "\n",
    "#             D[2][0] = -0.86\n",
    "#             D[2][1] = -0.5\n",
    "#             D[2][2] = 0\n",
    "\n",
    "#             D[3][0] = 0\n",
    "#             D[3][1] = 0\n",
    "#             D[3][2] = 1\n",
    "\n",
    "#             D[4][0] = 0\n",
    "#             D[4][1] = 0\n",
    "#             D[4][2] = -1\n",
    "            \n",
    "#         elif N == 6:\n",
    "            \n",
    "#             D[0][0] = 1\n",
    "#             D[0][1] = 0\n",
    "#             D[0][2] = 0\n",
    "\n",
    "#             D[1][0] = -1\n",
    "#             D[1][1] = 0\n",
    "#             D[1][2] = 0\n",
    "\n",
    "#             D[2][0] = 0\n",
    "#             D[2][1] = 1\n",
    "#             D[2][2] = 0\n",
    "            \n",
    "#             D[3][0] = 0\n",
    "#             D[3][1] = -1\n",
    "#             D[3][2] = 0\n",
    "\n",
    "#             D[4][0] = 0\n",
    "#             D[4][1] = 0\n",
    "#             D[4][2] = 1\n",
    "\n",
    "#             D[5][0] = 0\n",
    "#             D[5][1] = 0\n",
    "#             D[5][2] = -1\n",
    "            \n",
    "# #         elif N == 7:\n",
    "            \n",
    "# #             D[0][0] = 1\n",
    "# #             D[0][1] = 0.2\n",
    "# #             D[0][2] = 0.8\n",
    "\n",
    "# #             D[1][0] = 1\n",
    "# #             D[1][1] = 0.2\n",
    "# #             D[1][2] = -0.8\n",
    "\n",
    "# #             D[2][0] = 0\n",
    "# #             D[2][1] = 1\n",
    "# #             D[2][2] = 1\n",
    "            \n",
    "# #             D[3][0] = 0\n",
    "# #             D[3][1] = 1\n",
    "# #             D[3][2] = -1\n",
    "\n",
    "# #             D[4][0] = -1\n",
    "# #             D[4][1] = 0\n",
    "# #             D[4][2] = 0.8\n",
    "\n",
    "# #             D[5][0] = -1\n",
    "# #             D[5][1] = 0\n",
    "# #             D[5][2] = -1\n",
    "            \n",
    "# #             D[6][0] = 0\n",
    "# #             D[6][1] = -1\n",
    "# #             D[6][2] = 0.8\n",
    "\n",
    "            \n",
    "#         elif N == 8:\n",
    "            \n",
    "#             D[0][0] = 1\n",
    "#             D[0][1] = 0.2\n",
    "#             D[0][2] = 0.8\n",
    "\n",
    "#             D[1][0] = 1\n",
    "#             D[1][1] = 0.2\n",
    "#             D[1][2] = -0.8\n",
    "\n",
    "#             D[2][0] = 0\n",
    "#             D[2][1] = 1\n",
    "#             D[2][2] = 1\n",
    "            \n",
    "#             D[3][0] = 0\n",
    "#             D[3][1] = 1\n",
    "#             D[3][2] = -1\n",
    "\n",
    "#             D[4][0] = -1\n",
    "#             D[4][1] = 0\n",
    "#             D[4][2] = 0.8\n",
    "\n",
    "#             D[5][0] = -1\n",
    "#             D[5][1] = 0\n",
    "#             D[5][2] = -1\n",
    "            \n",
    "#             D[6][0] = 0\n",
    "#             D[6][1] = -1\n",
    "#             D[6][2] = 0.8\n",
    "            \n",
    "#             D[7][0] = 0\n",
    "#             D[7][1] = -1\n",
    "#             D[7][2] = -0.8\n",
    "            "
   ]
  },
  {
   "cell_type": "code",
   "execution_count": null,
   "metadata": {},
   "outputs": [],
   "source": []
  },
  {
   "cell_type": "code",
   "execution_count": null,
   "metadata": {},
   "outputs": [],
   "source": []
  },
  {
   "cell_type": "code",
   "execution_count": null,
   "metadata": {},
   "outputs": [],
   "source": []
  }
 ],
 "metadata": {
  "kernelspec": {
   "display_name": "Python 3",
   "language": "python",
   "name": "python3"
  },
  "language_info": {
   "codemirror_mode": {
    "name": "ipython",
    "version": 3
   },
   "file_extension": ".py",
   "mimetype": "text/x-python",
   "name": "python",
   "nbconvert_exporter": "python",
   "pygments_lexer": "ipython3",
   "version": "3.6.5"
  }
 },
 "nbformat": 4,
 "nbformat_minor": 2
}
