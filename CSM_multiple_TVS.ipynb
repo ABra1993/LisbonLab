{
 "cells": [
  {
   "cell_type": "markdown",
   "metadata": {},
   "source": [
    "# Coördinated Spiking Model ($\\textit{N}$ neurons)"
   ]
  },
  {
   "cell_type": "markdown",
   "metadata": {},
   "source": [
    "Install required packages:"
   ]
  },
  {
   "cell_type": "code",
   "execution_count": 1,
   "metadata": {},
   "outputs": [],
   "source": [
    "import numpy as np\n",
    "import pylab as pl"
   ]
  },
  {
   "cell_type": "markdown",
   "metadata": {},
   "source": [
    "Network size:"
   ]
  },
  {
   "cell_type": "code",
   "execution_count": 2,
   "metadata": {},
   "outputs": [],
   "source": [
    "N = 2"
   ]
  },
  {
   "cell_type": "markdown",
   "metadata": {},
   "source": [
    "Initialize parameters:"
   ]
  },
  {
   "cell_type": "code",
   "execution_count": 3,
   "metadata": {},
   "outputs": [],
   "source": [
    "# timesteps\n",
    "dt = 0.01\n",
    "iterations = 800\n",
    "xtime = np.arange(0, iterations) * dt\n",
    "\n",
    "# neural input\n",
    "x = 10\n",
    "xder = 0\n",
    "c = x + xder\n",
    "\n",
    "# read-out over time\n",
    "xhat = np.ones(iterations) * 0\n",
    "x_t = np.ones(iterations) * c\n",
    "\n",
    "step = 150\n",
    "\n",
    "x_t[0:step] = 0\n",
    "x_t[iterations - 2 * step:iterations] = 5\n",
    "\n",
    "# voltage/error over time\n",
    "V = np.zeros((N, iterations))\n",
    "dVdt = np.zeros((N, iterations))\n",
    "voltages = np.zeros((N, iterations))\n",
    "\n",
    "# spikes over time\n",
    "spike = np.zeros((N, iterations))\n",
    "o = np.zeros((N, iterations))\n",
    "\n",
    "# read-out weight\n",
    "gamma = 4\n",
    "\n",
    "# threshold\n",
    "T = gamma**2 / 2"
   ]
  },
  {
   "cell_type": "markdown",
   "metadata": {},
   "source": [
    "Run simulation:"
   ]
  },
  {
   "cell_type": "code",
   "execution_count": 4,
   "metadata": {},
   "outputs": [],
   "source": [
    "for t in range(1, iterations):\n",
    "    \n",
    "    # update read-out\n",
    "    dxhatdt = - xhat[t - 1] + gamma * np.sum(o[:, t - 1])\n",
    "    \n",
    "    xhat[t] = xhat[t - 1] + dt * dxhatdt\n",
    "    \n",
    "    # compute error\n",
    "    V[:, t] = gamma * (x_t[t] - xhat[t])\n",
    "    \n",
    "    dVdt = -voltages[:, t - 1] + gamma * x_t[t - 1] - o[:, t - 1] * (gamma ** 2)\n",
    "    voltages[:, t] =  voltages[:, t - 1] + dt * dVdt\n",
    "    \n",
    "    above_threshold = np.where(V[:, t] > T)\n",
    "    \n",
    "    # reset neuron when threshold is exceeded\n",
    "    if len(above_threshold[0]) > 0:\n",
    "        \n",
    "        # select random neuron who's voltage is above threshold\n",
    "        spike_neuron = np.random.randint(0, len(above_threshold[0]))\n",
    "        \n",
    "        # update spikes\n",
    "        o[spike_neuron][t] = 1/dt\n",
    "        spike[spike_neuron][t] = 1\n",
    "        \n",
    "        # reset voltage\n",
    "        voltages[:, t] = -T\n",
    "        "
   ]
  },
  {
   "cell_type": "markdown",
   "metadata": {},
   "source": [
    "Plot results:"
   ]
  },
  {
   "cell_type": "code",
   "execution_count": 5,
   "metadata": {},
   "outputs": [
    {
     "data": {
      "image/png": "[encoded data removed]",
      "text/plain": [
       "<Figure size 360x432 with 5 Axes>"
      ]
     },
     "metadata": {},
     "output_type": "display_data"
    }
   ],
   "source": [
    "plots = (2 * N) + 1\n",
    "pl.subplots(plots, 1, figsize=(5,6))\n",
    "\n",
    "# enable LaTeX\n",
    "pl.rc('text', usetex=True)\n",
    "\n",
    "# plot input and read-out\n",
    "pl.subplot(plots, 1, 1)\n",
    "pl.plot(xhat, color='blue', label=r'$\\hat{x}$')\n",
    "pl.plot(x_t, color='red', label=r'$x$')\n",
    "pl.yticks([])\n",
    "pl.xticks([])\n",
    "# pl.legend()\n",
    "\n",
    "counter = 2\n",
    "\n",
    "for i in range(N):\n",
    "    \n",
    "    ylabel = r'$V_{0}$'.format(str(i + 1))\n",
    "    \n",
    "    # plot voltage\n",
    "    pl.subplot(plots, 1, counter)\n",
    "    pl.plot(voltages[i], color='black')\n",
    "    # pl.ylabel(ylabel)\n",
    "    pl.yticks([])\n",
    "    pl.xticks([])\n",
    "    \n",
    "    counter = counter + 1\n",
    "\n",
    "    # plot spikes\n",
    "    pl.subplot(plots, 1, counter)\n",
    "    pl.plot(spike[i], color='lightgrey')\n",
    "    pl.yticks([])\n",
    "    pl.xticks([])\n",
    "    \n",
    "    counter = counter + 1\n",
    "\n",
    "# pl.xlabel('time')"
   ]
  }
 ],
 "metadata": {
  "kernelspec": {
   "display_name": "Python 3",
   "language": "python",
   "name": "python3"
  },
  "language_info": {
   "codemirror_mode": {
    "name": "ipython",
    "version": 3
   },
   "file_extension": ".py",
   "mimetype": "text/x-python",
   "name": "python",
   "nbconvert_exporter": "python",
   "pygments_lexer": "ipython3",
   "version": "3.6.5"
  }
 },
 "nbformat": 4,
 "nbformat_minor": 2
}
